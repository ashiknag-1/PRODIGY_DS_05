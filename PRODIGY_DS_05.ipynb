{
  "nbformat": 4,
  "nbformat_minor": 0,
  "metadata": {
    "colab": {
      "provenance": []
    },
    "kernelspec": {
      "name": "python3",
      "display_name": "Python 3"
    },
    "language_info": {
      "name": "python"
    }
  },
  "cells": [
    {
      "cell_type": "markdown",
      "source": [
        "# **TASK 5**\n",
        "Analyze traffic accident data to identify patters realated to road conditions, weather and time of day. Visualize accident hotspots and contributing factors.\n",
        "\n"
      ],
      "metadata": {
        "id": "XMXx7RDe5h0W"
      }
    },
    {
      "cell_type": "code",
      "execution_count": 1,
      "metadata": {
        "id": "VKQQUSpg5IOB"
      },
      "outputs": [],
      "source": [
        "import pandas as pd\n",
        "import matplotlib.pyplot as plt\n",
        "import numpy as np"
      ]
    },
    {
      "cell_type": "code",
      "source": [
        "df = pd.read_csv(\"/content/US_Accidents_March23.csv\")\n"
      ],
      "metadata": {
        "colab": {
          "base_uri": "https://localhost:8080/"
        },
        "id": "RNSvZ3RB53-9",
        "outputId": "a1288989-6a36-46af-d007-4a6f97c0ba49"
      },
      "execution_count": 2,
      "outputs": [
        {
          "output_type": "stream",
          "name": "stderr",
          "text": [
            "<ipython-input-2-08d6dcdd9eeb>:1: DtypeWarning: Columns (29,30,31,32,33,34,35,36,37,38,39,40,41) have mixed types. Specify dtype option on import or set low_memory=False.\n",
            "  df = pd.read_csv(\"/content/US_Accidents_March23.csv\")\n"
          ]
        }
      ]
    },
    {
      "cell_type": "code",
      "source": [
        "df\n"
      ],
      "metadata": {
        "colab": {
          "base_uri": "https://localhost:8080/",
          "height": 779
        },
        "id": "2s11UOjy54Az",
        "outputId": "b74ae308-f8e2-4a72-da38-78a92f152193"
      },
      "execution_count": 3,
      "outputs": [
        {
          "output_type": "execute_result",
          "data": {
            "text/plain": [
              "            ID   Source  Severity           Start_Time             End_Time  \\\n",
              "0          A-1  Source2         3  2016-02-08 05:46:00  2016-02-08 11:00:00   \n",
              "1          A-2  Source2         2  2016-02-08 06:07:59  2016-02-08 06:37:59   \n",
              "2          A-3  Source2         2  2016-02-08 06:49:27  2016-02-08 07:19:27   \n",
              "3          A-4  Source2         3  2016-02-08 07:23:34  2016-02-08 07:53:34   \n",
              "4          A-5  Source2         2  2016-02-08 07:39:07  2016-02-08 08:09:07   \n",
              "...        ...      ...       ...                  ...                  ...   \n",
              "42051  A-42052  Source2         2  2016-06-12 11:11:01  2016-06-12 12:41:01   \n",
              "42052  A-42053  Source2         2  2016-06-12 11:12:08  2016-06-12 12:42:08   \n",
              "42053  A-42054  Source2         2  2016-06-12 10:07:37  2016-06-12 13:03:00   \n",
              "42054  A-42055  Source2         2  2016-06-12 10:07:37  2016-06-12 13:00:00   \n",
              "42055  A-42056  Source2         3  2016-06-12 10:07:37  2016-06-12 12:51:00   \n",
              "\n",
              "       Start_Lat   Start_Lng  End_Lat  End_Lng  Distance(mi)  ... Roundabout  \\\n",
              "0      39.865147  -84.058723      NaN      NaN          0.01  ...      False   \n",
              "1      39.928059  -82.831184      NaN      NaN          0.01  ...      False   \n",
              "2      39.063148  -84.032608      NaN      NaN          0.01  ...      False   \n",
              "3      39.747753  -84.205582      NaN      NaN          0.01  ...      False   \n",
              "4      39.627781  -84.188354      NaN      NaN          0.01  ...      False   \n",
              "...          ...         ...      ...      ...           ...  ...        ...   \n",
              "42051  38.226337 -121.423782      NaN      NaN          0.00  ...      False   \n",
              "42052  37.970158 -121.403168      NaN      NaN          0.00  ...      False   \n",
              "42053  38.064247 -122.805115      NaN      NaN          0.00  ...      False   \n",
              "42054  37.704838 -122.116905      NaN      NaN          0.00  ...      False   \n",
              "42055  37.617496 -122.074219      NaN      NaN          0.00  ...        NaN   \n",
              "\n",
              "      Station   Stop Traffic_Calming Traffic_Signal Turning_Loop  \\\n",
              "0       False  False           False          False        False   \n",
              "1       False  False           False          False        False   \n",
              "2       False  False           False           True        False   \n",
              "3       False  False           False          False        False   \n",
              "4       False  False           False           True        False   \n",
              "...       ...    ...             ...            ...          ...   \n",
              "42051   False  False           False          False        False   \n",
              "42052   False  False           False          False        False   \n",
              "42053   False   True           False          False        False   \n",
              "42054   False   True           False          False        False   \n",
              "42055     NaN    NaN             NaN            NaN          NaN   \n",
              "\n",
              "      Sunrise_Sunset Civil_Twilight Nautical_Twilight Astronomical_Twilight  \n",
              "0              Night          Night             Night                 Night  \n",
              "1              Night          Night             Night                   Day  \n",
              "2              Night          Night               Day                   Day  \n",
              "3              Night            Day               Day                   Day  \n",
              "4                Day            Day               Day                   Day  \n",
              "...              ...            ...               ...                   ...  \n",
              "42051            Day            Day               Day                   Day  \n",
              "42052            Day            Day               Day                   Day  \n",
              "42053            Day            Day               Day                   Day  \n",
              "42054            Day            Day               Day                   Day  \n",
              "42055            NaN            NaN               NaN                   NaN  \n",
              "\n",
              "[42056 rows x 46 columns]"
            ],
            "text/html": [
              "\n",
              "  <div id=\"df-86d47513-628e-4cf2-b010-d1d6ce0bfd42\" class=\"colab-df-container\">\n",
              "    <div>\n",
              "<style scoped>\n",
              "    .dataframe tbody tr th:only-of-type {\n",
              "        vertical-align: middle;\n",
              "    }\n",
              "\n",
              "    .dataframe tbody tr th {\n",
              "        vertical-align: top;\n",
              "    }\n",
              "\n",
              "    .dataframe thead th {\n",
              "        text-align: right;\n",
              "    }\n",
              "</style>\n",
              "<table border=\"1\" class=\"dataframe\">\n",
              "  <thead>\n",
              "    <tr style=\"text-align: right;\">\n",
              "      <th></th>\n",
              "      <th>ID</th>\n",
              "      <th>Source</th>\n",
              "      <th>Severity</th>\n",
              "      <th>Start_Time</th>\n",
              "      <th>End_Time</th>\n",
              "      <th>Start_Lat</th>\n",
              "      <th>Start_Lng</th>\n",
              "      <th>End_Lat</th>\n",
              "      <th>End_Lng</th>\n",
              "      <th>Distance(mi)</th>\n",
              "      <th>...</th>\n",
              "      <th>Roundabout</th>\n",
              "      <th>Station</th>\n",
              "      <th>Stop</th>\n",
              "      <th>Traffic_Calming</th>\n",
              "      <th>Traffic_Signal</th>\n",
              "      <th>Turning_Loop</th>\n",
              "      <th>Sunrise_Sunset</th>\n",
              "      <th>Civil_Twilight</th>\n",
              "      <th>Nautical_Twilight</th>\n",
              "      <th>Astronomical_Twilight</th>\n",
              "    </tr>\n",
              "  </thead>\n",
              "  <tbody>\n",
              "    <tr>\n",
              "      <th>0</th>\n",
              "      <td>A-1</td>\n",
              "      <td>Source2</td>\n",
              "      <td>3</td>\n",
              "      <td>2016-02-08 05:46:00</td>\n",
              "      <td>2016-02-08 11:00:00</td>\n",
              "      <td>39.865147</td>\n",
              "      <td>-84.058723</td>\n",
              "      <td>NaN</td>\n",
              "      <td>NaN</td>\n",
              "      <td>0.01</td>\n",
              "      <td>...</td>\n",
              "      <td>False</td>\n",
              "      <td>False</td>\n",
              "      <td>False</td>\n",
              "      <td>False</td>\n",
              "      <td>False</td>\n",
              "      <td>False</td>\n",
              "      <td>Night</td>\n",
              "      <td>Night</td>\n",
              "      <td>Night</td>\n",
              "      <td>Night</td>\n",
              "    </tr>\n",
              "    <tr>\n",
              "      <th>1</th>\n",
              "      <td>A-2</td>\n",
              "      <td>Source2</td>\n",
              "      <td>2</td>\n",
              "      <td>2016-02-08 06:07:59</td>\n",
              "      <td>2016-02-08 06:37:59</td>\n",
              "      <td>39.928059</td>\n",
              "      <td>-82.831184</td>\n",
              "      <td>NaN</td>\n",
              "      <td>NaN</td>\n",
              "      <td>0.01</td>\n",
              "      <td>...</td>\n",
              "      <td>False</td>\n",
              "      <td>False</td>\n",
              "      <td>False</td>\n",
              "      <td>False</td>\n",
              "      <td>False</td>\n",
              "      <td>False</td>\n",
              "      <td>Night</td>\n",
              "      <td>Night</td>\n",
              "      <td>Night</td>\n",
              "      <td>Day</td>\n",
              "    </tr>\n",
              "    <tr>\n",
              "      <th>2</th>\n",
              "      <td>A-3</td>\n",
              "      <td>Source2</td>\n",
              "      <td>2</td>\n",
              "      <td>2016-02-08 06:49:27</td>\n",
              "      <td>2016-02-08 07:19:27</td>\n",
              "      <td>39.063148</td>\n",
              "      <td>-84.032608</td>\n",
              "      <td>NaN</td>\n",
              "      <td>NaN</td>\n",
              "      <td>0.01</td>\n",
              "      <td>...</td>\n",
              "      <td>False</td>\n",
              "      <td>False</td>\n",
              "      <td>False</td>\n",
              "      <td>False</td>\n",
              "      <td>True</td>\n",
              "      <td>False</td>\n",
              "      <td>Night</td>\n",
              "      <td>Night</td>\n",
              "      <td>Day</td>\n",
              "      <td>Day</td>\n",
              "    </tr>\n",
              "    <tr>\n",
              "      <th>3</th>\n",
              "      <td>A-4</td>\n",
              "      <td>Source2</td>\n",
              "      <td>3</td>\n",
              "      <td>2016-02-08 07:23:34</td>\n",
              "      <td>2016-02-08 07:53:34</td>\n",
              "      <td>39.747753</td>\n",
              "      <td>-84.205582</td>\n",
              "      <td>NaN</td>\n",
              "      <td>NaN</td>\n",
              "      <td>0.01</td>\n",
              "      <td>...</td>\n",
              "      <td>False</td>\n",
              "      <td>False</td>\n",
              "      <td>False</td>\n",
              "      <td>False</td>\n",
              "      <td>False</td>\n",
              "      <td>False</td>\n",
              "      <td>Night</td>\n",
              "      <td>Day</td>\n",
              "      <td>Day</td>\n",
              "      <td>Day</td>\n",
              "    </tr>\n",
              "    <tr>\n",
              "      <th>4</th>\n",
              "      <td>A-5</td>\n",
              "      <td>Source2</td>\n",
              "      <td>2</td>\n",
              "      <td>2016-02-08 07:39:07</td>\n",
              "      <td>2016-02-08 08:09:07</td>\n",
              "      <td>39.627781</td>\n",
              "      <td>-84.188354</td>\n",
              "      <td>NaN</td>\n",
              "      <td>NaN</td>\n",
              "      <td>0.01</td>\n",
              "      <td>...</td>\n",
              "      <td>False</td>\n",
              "      <td>False</td>\n",
              "      <td>False</td>\n",
              "      <td>False</td>\n",
              "      <td>True</td>\n",
              "      <td>False</td>\n",
              "      <td>Day</td>\n",
              "      <td>Day</td>\n",
              "      <td>Day</td>\n",
              "      <td>Day</td>\n",
              "    </tr>\n",
              "    <tr>\n",
              "      <th>...</th>\n",
              "      <td>...</td>\n",
              "      <td>...</td>\n",
              "      <td>...</td>\n",
              "      <td>...</td>\n",
              "      <td>...</td>\n",
              "      <td>...</td>\n",
              "      <td>...</td>\n",
              "      <td>...</td>\n",
              "      <td>...</td>\n",
              "      <td>...</td>\n",
              "      <td>...</td>\n",
              "      <td>...</td>\n",
              "      <td>...</td>\n",
              "      <td>...</td>\n",
              "      <td>...</td>\n",
              "      <td>...</td>\n",
              "      <td>...</td>\n",
              "      <td>...</td>\n",
              "      <td>...</td>\n",
              "      <td>...</td>\n",
              "      <td>...</td>\n",
              "    </tr>\n",
              "    <tr>\n",
              "      <th>42051</th>\n",
              "      <td>A-42052</td>\n",
              "      <td>Source2</td>\n",
              "      <td>2</td>\n",
              "      <td>2016-06-12 11:11:01</td>\n",
              "      <td>2016-06-12 12:41:01</td>\n",
              "      <td>38.226337</td>\n",
              "      <td>-121.423782</td>\n",
              "      <td>NaN</td>\n",
              "      <td>NaN</td>\n",
              "      <td>0.00</td>\n",
              "      <td>...</td>\n",
              "      <td>False</td>\n",
              "      <td>False</td>\n",
              "      <td>False</td>\n",
              "      <td>False</td>\n",
              "      <td>False</td>\n",
              "      <td>False</td>\n",
              "      <td>Day</td>\n",
              "      <td>Day</td>\n",
              "      <td>Day</td>\n",
              "      <td>Day</td>\n",
              "    </tr>\n",
              "    <tr>\n",
              "      <th>42052</th>\n",
              "      <td>A-42053</td>\n",
              "      <td>Source2</td>\n",
              "      <td>2</td>\n",
              "      <td>2016-06-12 11:12:08</td>\n",
              "      <td>2016-06-12 12:42:08</td>\n",
              "      <td>37.970158</td>\n",
              "      <td>-121.403168</td>\n",
              "      <td>NaN</td>\n",
              "      <td>NaN</td>\n",
              "      <td>0.00</td>\n",
              "      <td>...</td>\n",
              "      <td>False</td>\n",
              "      <td>False</td>\n",
              "      <td>False</td>\n",
              "      <td>False</td>\n",
              "      <td>False</td>\n",
              "      <td>False</td>\n",
              "      <td>Day</td>\n",
              "      <td>Day</td>\n",
              "      <td>Day</td>\n",
              "      <td>Day</td>\n",
              "    </tr>\n",
              "    <tr>\n",
              "      <th>42053</th>\n",
              "      <td>A-42054</td>\n",
              "      <td>Source2</td>\n",
              "      <td>2</td>\n",
              "      <td>2016-06-12 10:07:37</td>\n",
              "      <td>2016-06-12 13:03:00</td>\n",
              "      <td>38.064247</td>\n",
              "      <td>-122.805115</td>\n",
              "      <td>NaN</td>\n",
              "      <td>NaN</td>\n",
              "      <td>0.00</td>\n",
              "      <td>...</td>\n",
              "      <td>False</td>\n",
              "      <td>False</td>\n",
              "      <td>True</td>\n",
              "      <td>False</td>\n",
              "      <td>False</td>\n",
              "      <td>False</td>\n",
              "      <td>Day</td>\n",
              "      <td>Day</td>\n",
              "      <td>Day</td>\n",
              "      <td>Day</td>\n",
              "    </tr>\n",
              "    <tr>\n",
              "      <th>42054</th>\n",
              "      <td>A-42055</td>\n",
              "      <td>Source2</td>\n",
              "      <td>2</td>\n",
              "      <td>2016-06-12 10:07:37</td>\n",
              "      <td>2016-06-12 13:00:00</td>\n",
              "      <td>37.704838</td>\n",
              "      <td>-122.116905</td>\n",
              "      <td>NaN</td>\n",
              "      <td>NaN</td>\n",
              "      <td>0.00</td>\n",
              "      <td>...</td>\n",
              "      <td>False</td>\n",
              "      <td>False</td>\n",
              "      <td>True</td>\n",
              "      <td>False</td>\n",
              "      <td>False</td>\n",
              "      <td>False</td>\n",
              "      <td>Day</td>\n",
              "      <td>Day</td>\n",
              "      <td>Day</td>\n",
              "      <td>Day</td>\n",
              "    </tr>\n",
              "    <tr>\n",
              "      <th>42055</th>\n",
              "      <td>A-42056</td>\n",
              "      <td>Source2</td>\n",
              "      <td>3</td>\n",
              "      <td>2016-06-12 10:07:37</td>\n",
              "      <td>2016-06-12 12:51:00</td>\n",
              "      <td>37.617496</td>\n",
              "      <td>-122.074219</td>\n",
              "      <td>NaN</td>\n",
              "      <td>NaN</td>\n",
              "      <td>0.00</td>\n",
              "      <td>...</td>\n",
              "      <td>NaN</td>\n",
              "      <td>NaN</td>\n",
              "      <td>NaN</td>\n",
              "      <td>NaN</td>\n",
              "      <td>NaN</td>\n",
              "      <td>NaN</td>\n",
              "      <td>NaN</td>\n",
              "      <td>NaN</td>\n",
              "      <td>NaN</td>\n",
              "      <td>NaN</td>\n",
              "    </tr>\n",
              "  </tbody>\n",
              "</table>\n",
              "<p>42056 rows × 46 columns</p>\n",
              "</div>\n",
              "    <div class=\"colab-df-buttons\">\n",
              "\n",
              "  <div class=\"colab-df-container\">\n",
              "    <button class=\"colab-df-convert\" onclick=\"convertToInteractive('df-86d47513-628e-4cf2-b010-d1d6ce0bfd42')\"\n",
              "            title=\"Convert this dataframe to an interactive table.\"\n",
              "            style=\"display:none;\">\n",
              "\n",
              "  <svg xmlns=\"http://www.w3.org/2000/svg\" height=\"24px\" viewBox=\"0 -960 960 960\">\n",
              "    <path d=\"M120-120v-720h720v720H120Zm60-500h600v-160H180v160Zm220 220h160v-160H400v160Zm0 220h160v-160H400v160ZM180-400h160v-160H180v160Zm440 0h160v-160H620v160ZM180-180h160v-160H180v160Zm440 0h160v-160H620v160Z\"/>\n",
              "  </svg>\n",
              "    </button>\n",
              "\n",
              "  <style>\n",
              "    .colab-df-container {\n",
              "      display:flex;\n",
              "      gap: 12px;\n",
              "    }\n",
              "\n",
              "    .colab-df-convert {\n",
              "      background-color: #E8F0FE;\n",
              "      border: none;\n",
              "      border-radius: 50%;\n",
              "      cursor: pointer;\n",
              "      display: none;\n",
              "      fill: #1967D2;\n",
              "      height: 32px;\n",
              "      padding: 0 0 0 0;\n",
              "      width: 32px;\n",
              "    }\n",
              "\n",
              "    .colab-df-convert:hover {\n",
              "      background-color: #E2EBFA;\n",
              "      box-shadow: 0px 1px 2px rgba(60, 64, 67, 0.3), 0px 1px 3px 1px rgba(60, 64, 67, 0.15);\n",
              "      fill: #174EA6;\n",
              "    }\n",
              "\n",
              "    .colab-df-buttons div {\n",
              "      margin-bottom: 4px;\n",
              "    }\n",
              "\n",
              "    [theme=dark] .colab-df-convert {\n",
              "      background-color: #3B4455;\n",
              "      fill: #D2E3FC;\n",
              "    }\n",
              "\n",
              "    [theme=dark] .colab-df-convert:hover {\n",
              "      background-color: #434B5C;\n",
              "      box-shadow: 0px 1px 3px 1px rgba(0, 0, 0, 0.15);\n",
              "      filter: drop-shadow(0px 1px 2px rgba(0, 0, 0, 0.3));\n",
              "      fill: #FFFFFF;\n",
              "    }\n",
              "  </style>\n",
              "\n",
              "    <script>\n",
              "      const buttonEl =\n",
              "        document.querySelector('#df-86d47513-628e-4cf2-b010-d1d6ce0bfd42 button.colab-df-convert');\n",
              "      buttonEl.style.display =\n",
              "        google.colab.kernel.accessAllowed ? 'block' : 'none';\n",
              "\n",
              "      async function convertToInteractive(key) {\n",
              "        const element = document.querySelector('#df-86d47513-628e-4cf2-b010-d1d6ce0bfd42');\n",
              "        const dataTable =\n",
              "          await google.colab.kernel.invokeFunction('convertToInteractive',\n",
              "                                                    [key], {});\n",
              "        if (!dataTable) return;\n",
              "\n",
              "        const docLinkHtml = 'Like what you see? Visit the ' +\n",
              "          '<a target=\"_blank\" href=https://colab.research.google.com/notebooks/data_table.ipynb>data table notebook</a>'\n",
              "          + ' to learn more about interactive tables.';\n",
              "        element.innerHTML = '';\n",
              "        dataTable['output_type'] = 'display_data';\n",
              "        await google.colab.output.renderOutput(dataTable, element);\n",
              "        const docLink = document.createElement('div');\n",
              "        docLink.innerHTML = docLinkHtml;\n",
              "        element.appendChild(docLink);\n",
              "      }\n",
              "    </script>\n",
              "  </div>\n",
              "\n",
              "\n",
              "<div id=\"df-47afb051-6f06-4af0-993a-d3fd6fa506b9\">\n",
              "  <button class=\"colab-df-quickchart\" onclick=\"quickchart('df-47afb051-6f06-4af0-993a-d3fd6fa506b9')\"\n",
              "            title=\"Suggest charts\"\n",
              "            style=\"display:none;\">\n",
              "\n",
              "<svg xmlns=\"http://www.w3.org/2000/svg\" height=\"24px\"viewBox=\"0 0 24 24\"\n",
              "     width=\"24px\">\n",
              "    <g>\n",
              "        <path d=\"M19 3H5c-1.1 0-2 .9-2 2v14c0 1.1.9 2 2 2h14c1.1 0 2-.9 2-2V5c0-1.1-.9-2-2-2zM9 17H7v-7h2v7zm4 0h-2V7h2v10zm4 0h-2v-4h2v4z\"/>\n",
              "    </g>\n",
              "</svg>\n",
              "  </button>\n",
              "\n",
              "<style>\n",
              "  .colab-df-quickchart {\n",
              "      --bg-color: #E8F0FE;\n",
              "      --fill-color: #1967D2;\n",
              "      --hover-bg-color: #E2EBFA;\n",
              "      --hover-fill-color: #174EA6;\n",
              "      --disabled-fill-color: #AAA;\n",
              "      --disabled-bg-color: #DDD;\n",
              "  }\n",
              "\n",
              "  [theme=dark] .colab-df-quickchart {\n",
              "      --bg-color: #3B4455;\n",
              "      --fill-color: #D2E3FC;\n",
              "      --hover-bg-color: #434B5C;\n",
              "      --hover-fill-color: #FFFFFF;\n",
              "      --disabled-bg-color: #3B4455;\n",
              "      --disabled-fill-color: #666;\n",
              "  }\n",
              "\n",
              "  .colab-df-quickchart {\n",
              "    background-color: var(--bg-color);\n",
              "    border: none;\n",
              "    border-radius: 50%;\n",
              "    cursor: pointer;\n",
              "    display: none;\n",
              "    fill: var(--fill-color);\n",
              "    height: 32px;\n",
              "    padding: 0;\n",
              "    width: 32px;\n",
              "  }\n",
              "\n",
              "  .colab-df-quickchart:hover {\n",
              "    background-color: var(--hover-bg-color);\n",
              "    box-shadow: 0 1px 2px rgba(60, 64, 67, 0.3), 0 1px 3px 1px rgba(60, 64, 67, 0.15);\n",
              "    fill: var(--button-hover-fill-color);\n",
              "  }\n",
              "\n",
              "  .colab-df-quickchart-complete:disabled,\n",
              "  .colab-df-quickchart-complete:disabled:hover {\n",
              "    background-color: var(--disabled-bg-color);\n",
              "    fill: var(--disabled-fill-color);\n",
              "    box-shadow: none;\n",
              "  }\n",
              "\n",
              "  .colab-df-spinner {\n",
              "    border: 2px solid var(--fill-color);\n",
              "    border-color: transparent;\n",
              "    border-bottom-color: var(--fill-color);\n",
              "    animation:\n",
              "      spin 1s steps(1) infinite;\n",
              "  }\n",
              "\n",
              "  @keyframes spin {\n",
              "    0% {\n",
              "      border-color: transparent;\n",
              "      border-bottom-color: var(--fill-color);\n",
              "      border-left-color: var(--fill-color);\n",
              "    }\n",
              "    20% {\n",
              "      border-color: transparent;\n",
              "      border-left-color: var(--fill-color);\n",
              "      border-top-color: var(--fill-color);\n",
              "    }\n",
              "    30% {\n",
              "      border-color: transparent;\n",
              "      border-left-color: var(--fill-color);\n",
              "      border-top-color: var(--fill-color);\n",
              "      border-right-color: var(--fill-color);\n",
              "    }\n",
              "    40% {\n",
              "      border-color: transparent;\n",
              "      border-right-color: var(--fill-color);\n",
              "      border-top-color: var(--fill-color);\n",
              "    }\n",
              "    60% {\n",
              "      border-color: transparent;\n",
              "      border-right-color: var(--fill-color);\n",
              "    }\n",
              "    80% {\n",
              "      border-color: transparent;\n",
              "      border-right-color: var(--fill-color);\n",
              "      border-bottom-color: var(--fill-color);\n",
              "    }\n",
              "    90% {\n",
              "      border-color: transparent;\n",
              "      border-bottom-color: var(--fill-color);\n",
              "    }\n",
              "  }\n",
              "</style>\n",
              "\n",
              "  <script>\n",
              "    async function quickchart(key) {\n",
              "      const quickchartButtonEl =\n",
              "        document.querySelector('#' + key + ' button');\n",
              "      quickchartButtonEl.disabled = true;  // To prevent multiple clicks.\n",
              "      quickchartButtonEl.classList.add('colab-df-spinner');\n",
              "      try {\n",
              "        const charts = await google.colab.kernel.invokeFunction(\n",
              "            'suggestCharts', [key], {});\n",
              "      } catch (error) {\n",
              "        console.error('Error during call to suggestCharts:', error);\n",
              "      }\n",
              "      quickchartButtonEl.classList.remove('colab-df-spinner');\n",
              "      quickchartButtonEl.classList.add('colab-df-quickchart-complete');\n",
              "    }\n",
              "    (() => {\n",
              "      let quickchartButtonEl =\n",
              "        document.querySelector('#df-47afb051-6f06-4af0-993a-d3fd6fa506b9 button');\n",
              "      quickchartButtonEl.style.display =\n",
              "        google.colab.kernel.accessAllowed ? 'block' : 'none';\n",
              "    })();\n",
              "  </script>\n",
              "</div>\n",
              "\n",
              "  <div id=\"id_915388c0-7883-401b-8e67-125f7ec81d21\">\n",
              "    <style>\n",
              "      .colab-df-generate {\n",
              "        background-color: #E8F0FE;\n",
              "        border: none;\n",
              "        border-radius: 50%;\n",
              "        cursor: pointer;\n",
              "        display: none;\n",
              "        fill: #1967D2;\n",
              "        height: 32px;\n",
              "        padding: 0 0 0 0;\n",
              "        width: 32px;\n",
              "      }\n",
              "\n",
              "      .colab-df-generate:hover {\n",
              "        background-color: #E2EBFA;\n",
              "        box-shadow: 0px 1px 2px rgba(60, 64, 67, 0.3), 0px 1px 3px 1px rgba(60, 64, 67, 0.15);\n",
              "        fill: #174EA6;\n",
              "      }\n",
              "\n",
              "      [theme=dark] .colab-df-generate {\n",
              "        background-color: #3B4455;\n",
              "        fill: #D2E3FC;\n",
              "      }\n",
              "\n",
              "      [theme=dark] .colab-df-generate:hover {\n",
              "        background-color: #434B5C;\n",
              "        box-shadow: 0px 1px 3px 1px rgba(0, 0, 0, 0.15);\n",
              "        filter: drop-shadow(0px 1px 2px rgba(0, 0, 0, 0.3));\n",
              "        fill: #FFFFFF;\n",
              "      }\n",
              "    </style>\n",
              "    <button class=\"colab-df-generate\" onclick=\"generateWithVariable('df')\"\n",
              "            title=\"Generate code using this dataframe.\"\n",
              "            style=\"display:none;\">\n",
              "\n",
              "  <svg xmlns=\"http://www.w3.org/2000/svg\" height=\"24px\"viewBox=\"0 0 24 24\"\n",
              "       width=\"24px\">\n",
              "    <path d=\"M7,19H8.4L18.45,9,17,7.55,7,17.6ZM5,21V16.75L18.45,3.32a2,2,0,0,1,2.83,0l1.4,1.43a1.91,1.91,0,0,1,.58,1.4,1.91,1.91,0,0,1-.58,1.4L9.25,21ZM18.45,9,17,7.55Zm-12,3A5.31,5.31,0,0,0,4.9,8.1,5.31,5.31,0,0,0,1,6.5,5.31,5.31,0,0,0,4.9,4.9,5.31,5.31,0,0,0,6.5,1,5.31,5.31,0,0,0,8.1,4.9,5.31,5.31,0,0,0,12,6.5,5.46,5.46,0,0,0,6.5,12Z\"/>\n",
              "  </svg>\n",
              "    </button>\n",
              "    <script>\n",
              "      (() => {\n",
              "      const buttonEl =\n",
              "        document.querySelector('#id_915388c0-7883-401b-8e67-125f7ec81d21 button.colab-df-generate');\n",
              "      buttonEl.style.display =\n",
              "        google.colab.kernel.accessAllowed ? 'block' : 'none';\n",
              "\n",
              "      buttonEl.onclick = () => {\n",
              "        google.colab.notebook.generateWithVariable('df');\n",
              "      }\n",
              "      })();\n",
              "    </script>\n",
              "  </div>\n",
              "\n",
              "    </div>\n",
              "  </div>\n"
            ],
            "application/vnd.google.colaboratory.intrinsic+json": {
              "type": "dataframe",
              "variable_name": "df"
            }
          },
          "metadata": {},
          "execution_count": 3
        }
      ]
    },
    {
      "cell_type": "code",
      "source": [
        "df.columns\n"
      ],
      "metadata": {
        "colab": {
          "base_uri": "https://localhost:8080/"
        },
        "id": "L4XeI9e654DJ",
        "outputId": "40cb53b8-da61-41d7-8c56-19df882dffa5"
      },
      "execution_count": 4,
      "outputs": [
        {
          "output_type": "execute_result",
          "data": {
            "text/plain": [
              "Index(['ID', 'Source', 'Severity', 'Start_Time', 'End_Time', 'Start_Lat',\n",
              "       'Start_Lng', 'End_Lat', 'End_Lng', 'Distance(mi)', 'Description',\n",
              "       'Street', 'City', 'County', 'State', 'Zipcode', 'Country', 'Timezone',\n",
              "       'Airport_Code', 'Weather_Timestamp', 'Temperature(F)', 'Wind_Chill(F)',\n",
              "       'Humidity(%)', 'Pressure(in)', 'Visibility(mi)', 'Wind_Direction',\n",
              "       'Wind_Speed(mph)', 'Precipitation(in)', 'Weather_Condition', 'Amenity',\n",
              "       'Bump', 'Crossing', 'Give_Way', 'Junction', 'No_Exit', 'Railway',\n",
              "       'Roundabout', 'Station', 'Stop', 'Traffic_Calming', 'Traffic_Signal',\n",
              "       'Turning_Loop', 'Sunrise_Sunset', 'Civil_Twilight', 'Nautical_Twilight',\n",
              "       'Astronomical_Twilight'],\n",
              "      dtype='object')"
            ]
          },
          "metadata": {},
          "execution_count": 4
        }
      ]
    },
    {
      "cell_type": "code",
      "source": [
        "len(df.columns)"
      ],
      "metadata": {
        "colab": {
          "base_uri": "https://localhost:8080/"
        },
        "id": "S0QAND7R54E_",
        "outputId": "5b18a880-6b3f-4e9d-afcc-572c061546e1"
      },
      "execution_count": 5,
      "outputs": [
        {
          "output_type": "execute_result",
          "data": {
            "text/plain": [
              "46"
            ]
          },
          "metadata": {},
          "execution_count": 5
        }
      ]
    },
    {
      "cell_type": "code",
      "source": [
        "len(df)"
      ],
      "metadata": {
        "colab": {
          "base_uri": "https://localhost:8080/"
        },
        "id": "8EiM1Krn54I_",
        "outputId": "c7ceeb00-057a-493e-eb44-c79f09192eeb"
      },
      "execution_count": 6,
      "outputs": [
        {
          "output_type": "execute_result",
          "data": {
            "text/plain": [
              "42056"
            ]
          },
          "metadata": {},
          "execution_count": 6
        }
      ]
    },
    {
      "cell_type": "code",
      "source": [
        "df.info()"
      ],
      "metadata": {
        "colab": {
          "base_uri": "https://localhost:8080/"
        },
        "id": "Vw1Z4Wif54LD",
        "outputId": "a230b21c-c65d-40c3-802c-892438e61024"
      },
      "execution_count": 7,
      "outputs": [
        {
          "output_type": "stream",
          "name": "stdout",
          "text": [
            "<class 'pandas.core.frame.DataFrame'>\n",
            "RangeIndex: 42056 entries, 0 to 42055\n",
            "Data columns (total 46 columns):\n",
            " #   Column                 Non-Null Count  Dtype  \n",
            "---  ------                 --------------  -----  \n",
            " 0   ID                     42056 non-null  object \n",
            " 1   Source                 42056 non-null  object \n",
            " 2   Severity               42056 non-null  int64  \n",
            " 3   Start_Time             42056 non-null  object \n",
            " 4   End_Time               42056 non-null  object \n",
            " 5   Start_Lat              42056 non-null  float64\n",
            " 6   Start_Lng              42056 non-null  float64\n",
            " 7   End_Lat                0 non-null      float64\n",
            " 8   End_Lng                0 non-null      float64\n",
            " 9   Distance(mi)           42056 non-null  float64\n",
            " 10  Description            42056 non-null  object \n",
            " 11  Street                 42055 non-null  object \n",
            " 12  City                   42055 non-null  object \n",
            " 13  County                 42055 non-null  object \n",
            " 14  State                  42055 non-null  object \n",
            " 15  Zipcode                42048 non-null  object \n",
            " 16  Country                42055 non-null  object \n",
            " 17  Timezone               42048 non-null  object \n",
            " 18  Airport_Code           42048 non-null  object \n",
            " 19  Weather_Timestamp      41910 non-null  object \n",
            " 20  Temperature(F)         41727 non-null  float64\n",
            " 21  Wind_Chill(F)          2297 non-null   float64\n",
            " 22  Humidity(%)            41544 non-null  float64\n",
            " 23  Pressure(in)           41880 non-null  float64\n",
            " 24  Visibility(mi)         41682 non-null  float64\n",
            " 25  Wind_Direction         41910 non-null  object \n",
            " 26  Wind_Speed(mph)        34948 non-null  float64\n",
            " 27  Precipitation(in)      3063 non-null   float64\n",
            " 28  Weather_Condition      41597 non-null  object \n",
            " 29  Amenity                42055 non-null  object \n",
            " 30  Bump                   42055 non-null  object \n",
            " 31  Crossing               42055 non-null  object \n",
            " 32  Give_Way               42055 non-null  object \n",
            " 33  Junction               42055 non-null  object \n",
            " 34  No_Exit                42055 non-null  object \n",
            " 35  Railway                42055 non-null  object \n",
            " 36  Roundabout             42055 non-null  object \n",
            " 37  Station                42055 non-null  object \n",
            " 38  Stop                   42055 non-null  object \n",
            " 39  Traffic_Calming        42055 non-null  object \n",
            " 40  Traffic_Signal         42055 non-null  object \n",
            " 41  Turning_Loop           42055 non-null  object \n",
            " 42  Sunrise_Sunset         42055 non-null  object \n",
            " 43  Civil_Twilight         42055 non-null  object \n",
            " 44  Nautical_Twilight      42055 non-null  object \n",
            " 45  Astronomical_Twilight  42055 non-null  object \n",
            "dtypes: float64(12), int64(1), object(33)\n",
            "memory usage: 14.8+ MB\n"
          ]
        }
      ]
    },
    {
      "cell_type": "code",
      "source": [
        "df.describe()"
      ],
      "metadata": {
        "colab": {
          "base_uri": "https://localhost:8080/",
          "height": 317
        },
        "id": "xAIj2pHM54Na",
        "outputId": "ec7596dc-6e98-4f7d-8d49-5e6dae425602"
      },
      "execution_count": 8,
      "outputs": [
        {
          "output_type": "execute_result",
          "data": {
            "text/plain": [
              "           Severity     Start_Lat     Start_Lng  End_Lat  End_Lng  \\\n",
              "count  42056.000000  42056.000000  42056.000000      0.0      0.0   \n",
              "mean       2.379304     37.985847   -121.190105      NaN      NaN   \n",
              "std        0.488687      0.604640      5.021392      NaN      NaN   \n",
              "min        1.000000     36.352592   -123.813927      NaN      NaN   \n",
              "25%        2.000000     37.579227   -122.198219      NaN      NaN   \n",
              "50%        2.000000     37.881908   -121.922829      NaN      NaN   \n",
              "75%        3.000000     38.496098   -121.424889      NaN      NaN   \n",
              "max        4.000000     41.428753    -81.550728      NaN      NaN   \n",
              "\n",
              "       Distance(mi)  Temperature(F)  Wind_Chill(F)   Humidity(%)  \\\n",
              "count  42056.000000    41727.000000    2297.000000  41544.000000   \n",
              "mean       0.017429       63.120004      35.562560     62.278885   \n",
              "std        0.386375       13.114563       9.017976     22.223655   \n",
              "min        0.000000        3.900000      -8.400000      4.000000   \n",
              "25%        0.000000       55.000000      32.800000     46.000000   \n",
              "50%        0.010000       62.100000      38.100000     64.000000   \n",
              "75%        0.010000       71.100000      41.500000     80.000000   \n",
              "max       51.130000      106.000000      66.000000    100.000000   \n",
              "\n",
              "       Pressure(in)  Visibility(mi)  Wind_Speed(mph)  Precipitation(in)  \n",
              "count  41880.000000    41682.000000     34948.000000        3063.000000  \n",
              "mean      29.993688        9.382225         8.836388           0.028345  \n",
              "std        0.195216        2.039377         4.619844           0.051736  \n",
              "min        3.010000        0.100000         1.200000           0.000000  \n",
              "25%       29.900000       10.000000         5.800000           0.000000  \n",
              "50%       29.990000       10.000000         8.100000           0.010000  \n",
              "75%       30.090000       10.000000        11.500000           0.030000  \n",
              "max       33.040000       80.000000       142.700000           0.550000  "
            ],
            "text/html": [
              "\n",
              "  <div id=\"df-ff6c26c9-f691-4e19-9636-146f813e5c54\" class=\"colab-df-container\">\n",
              "    <div>\n",
              "<style scoped>\n",
              "    .dataframe tbody tr th:only-of-type {\n",
              "        vertical-align: middle;\n",
              "    }\n",
              "\n",
              "    .dataframe tbody tr th {\n",
              "        vertical-align: top;\n",
              "    }\n",
              "\n",
              "    .dataframe thead th {\n",
              "        text-align: right;\n",
              "    }\n",
              "</style>\n",
              "<table border=\"1\" class=\"dataframe\">\n",
              "  <thead>\n",
              "    <tr style=\"text-align: right;\">\n",
              "      <th></th>\n",
              "      <th>Severity</th>\n",
              "      <th>Start_Lat</th>\n",
              "      <th>Start_Lng</th>\n",
              "      <th>End_Lat</th>\n",
              "      <th>End_Lng</th>\n",
              "      <th>Distance(mi)</th>\n",
              "      <th>Temperature(F)</th>\n",
              "      <th>Wind_Chill(F)</th>\n",
              "      <th>Humidity(%)</th>\n",
              "      <th>Pressure(in)</th>\n",
              "      <th>Visibility(mi)</th>\n",
              "      <th>Wind_Speed(mph)</th>\n",
              "      <th>Precipitation(in)</th>\n",
              "    </tr>\n",
              "  </thead>\n",
              "  <tbody>\n",
              "    <tr>\n",
              "      <th>count</th>\n",
              "      <td>42056.000000</td>\n",
              "      <td>42056.000000</td>\n",
              "      <td>42056.000000</td>\n",
              "      <td>0.0</td>\n",
              "      <td>0.0</td>\n",
              "      <td>42056.000000</td>\n",
              "      <td>41727.000000</td>\n",
              "      <td>2297.000000</td>\n",
              "      <td>41544.000000</td>\n",
              "      <td>41880.000000</td>\n",
              "      <td>41682.000000</td>\n",
              "      <td>34948.000000</td>\n",
              "      <td>3063.000000</td>\n",
              "    </tr>\n",
              "    <tr>\n",
              "      <th>mean</th>\n",
              "      <td>2.379304</td>\n",
              "      <td>37.985847</td>\n",
              "      <td>-121.190105</td>\n",
              "      <td>NaN</td>\n",
              "      <td>NaN</td>\n",
              "      <td>0.017429</td>\n",
              "      <td>63.120004</td>\n",
              "      <td>35.562560</td>\n",
              "      <td>62.278885</td>\n",
              "      <td>29.993688</td>\n",
              "      <td>9.382225</td>\n",
              "      <td>8.836388</td>\n",
              "      <td>0.028345</td>\n",
              "    </tr>\n",
              "    <tr>\n",
              "      <th>std</th>\n",
              "      <td>0.488687</td>\n",
              "      <td>0.604640</td>\n",
              "      <td>5.021392</td>\n",
              "      <td>NaN</td>\n",
              "      <td>NaN</td>\n",
              "      <td>0.386375</td>\n",
              "      <td>13.114563</td>\n",
              "      <td>9.017976</td>\n",
              "      <td>22.223655</td>\n",
              "      <td>0.195216</td>\n",
              "      <td>2.039377</td>\n",
              "      <td>4.619844</td>\n",
              "      <td>0.051736</td>\n",
              "    </tr>\n",
              "    <tr>\n",
              "      <th>min</th>\n",
              "      <td>1.000000</td>\n",
              "      <td>36.352592</td>\n",
              "      <td>-123.813927</td>\n",
              "      <td>NaN</td>\n",
              "      <td>NaN</td>\n",
              "      <td>0.000000</td>\n",
              "      <td>3.900000</td>\n",
              "      <td>-8.400000</td>\n",
              "      <td>4.000000</td>\n",
              "      <td>3.010000</td>\n",
              "      <td>0.100000</td>\n",
              "      <td>1.200000</td>\n",
              "      <td>0.000000</td>\n",
              "    </tr>\n",
              "    <tr>\n",
              "      <th>25%</th>\n",
              "      <td>2.000000</td>\n",
              "      <td>37.579227</td>\n",
              "      <td>-122.198219</td>\n",
              "      <td>NaN</td>\n",
              "      <td>NaN</td>\n",
              "      <td>0.000000</td>\n",
              "      <td>55.000000</td>\n",
              "      <td>32.800000</td>\n",
              "      <td>46.000000</td>\n",
              "      <td>29.900000</td>\n",
              "      <td>10.000000</td>\n",
              "      <td>5.800000</td>\n",
              "      <td>0.000000</td>\n",
              "    </tr>\n",
              "    <tr>\n",
              "      <th>50%</th>\n",
              "      <td>2.000000</td>\n",
              "      <td>37.881908</td>\n",
              "      <td>-121.922829</td>\n",
              "      <td>NaN</td>\n",
              "      <td>NaN</td>\n",
              "      <td>0.010000</td>\n",
              "      <td>62.100000</td>\n",
              "      <td>38.100000</td>\n",
              "      <td>64.000000</td>\n",
              "      <td>29.990000</td>\n",
              "      <td>10.000000</td>\n",
              "      <td>8.100000</td>\n",
              "      <td>0.010000</td>\n",
              "    </tr>\n",
              "    <tr>\n",
              "      <th>75%</th>\n",
              "      <td>3.000000</td>\n",
              "      <td>38.496098</td>\n",
              "      <td>-121.424889</td>\n",
              "      <td>NaN</td>\n",
              "      <td>NaN</td>\n",
              "      <td>0.010000</td>\n",
              "      <td>71.100000</td>\n",
              "      <td>41.500000</td>\n",
              "      <td>80.000000</td>\n",
              "      <td>30.090000</td>\n",
              "      <td>10.000000</td>\n",
              "      <td>11.500000</td>\n",
              "      <td>0.030000</td>\n",
              "    </tr>\n",
              "    <tr>\n",
              "      <th>max</th>\n",
              "      <td>4.000000</td>\n",
              "      <td>41.428753</td>\n",
              "      <td>-81.550728</td>\n",
              "      <td>NaN</td>\n",
              "      <td>NaN</td>\n",
              "      <td>51.130000</td>\n",
              "      <td>106.000000</td>\n",
              "      <td>66.000000</td>\n",
              "      <td>100.000000</td>\n",
              "      <td>33.040000</td>\n",
              "      <td>80.000000</td>\n",
              "      <td>142.700000</td>\n",
              "      <td>0.550000</td>\n",
              "    </tr>\n",
              "  </tbody>\n",
              "</table>\n",
              "</div>\n",
              "    <div class=\"colab-df-buttons\">\n",
              "\n",
              "  <div class=\"colab-df-container\">\n",
              "    <button class=\"colab-df-convert\" onclick=\"convertToInteractive('df-ff6c26c9-f691-4e19-9636-146f813e5c54')\"\n",
              "            title=\"Convert this dataframe to an interactive table.\"\n",
              "            style=\"display:none;\">\n",
              "\n",
              "  <svg xmlns=\"http://www.w3.org/2000/svg\" height=\"24px\" viewBox=\"0 -960 960 960\">\n",
              "    <path d=\"M120-120v-720h720v720H120Zm60-500h600v-160H180v160Zm220 220h160v-160H400v160Zm0 220h160v-160H400v160ZM180-400h160v-160H180v160Zm440 0h160v-160H620v160ZM180-180h160v-160H180v160Zm440 0h160v-160H620v160Z\"/>\n",
              "  </svg>\n",
              "    </button>\n",
              "\n",
              "  <style>\n",
              "    .colab-df-container {\n",
              "      display:flex;\n",
              "      gap: 12px;\n",
              "    }\n",
              "\n",
              "    .colab-df-convert {\n",
              "      background-color: #E8F0FE;\n",
              "      border: none;\n",
              "      border-radius: 50%;\n",
              "      cursor: pointer;\n",
              "      display: none;\n",
              "      fill: #1967D2;\n",
              "      height: 32px;\n",
              "      padding: 0 0 0 0;\n",
              "      width: 32px;\n",
              "    }\n",
              "\n",
              "    .colab-df-convert:hover {\n",
              "      background-color: #E2EBFA;\n",
              "      box-shadow: 0px 1px 2px rgba(60, 64, 67, 0.3), 0px 1px 3px 1px rgba(60, 64, 67, 0.15);\n",
              "      fill: #174EA6;\n",
              "    }\n",
              "\n",
              "    .colab-df-buttons div {\n",
              "      margin-bottom: 4px;\n",
              "    }\n",
              "\n",
              "    [theme=dark] .colab-df-convert {\n",
              "      background-color: #3B4455;\n",
              "      fill: #D2E3FC;\n",
              "    }\n",
              "\n",
              "    [theme=dark] .colab-df-convert:hover {\n",
              "      background-color: #434B5C;\n",
              "      box-shadow: 0px 1px 3px 1px rgba(0, 0, 0, 0.15);\n",
              "      filter: drop-shadow(0px 1px 2px rgba(0, 0, 0, 0.3));\n",
              "      fill: #FFFFFF;\n",
              "    }\n",
              "  </style>\n",
              "\n",
              "    <script>\n",
              "      const buttonEl =\n",
              "        document.querySelector('#df-ff6c26c9-f691-4e19-9636-146f813e5c54 button.colab-df-convert');\n",
              "      buttonEl.style.display =\n",
              "        google.colab.kernel.accessAllowed ? 'block' : 'none';\n",
              "\n",
              "      async function convertToInteractive(key) {\n",
              "        const element = document.querySelector('#df-ff6c26c9-f691-4e19-9636-146f813e5c54');\n",
              "        const dataTable =\n",
              "          await google.colab.kernel.invokeFunction('convertToInteractive',\n",
              "                                                    [key], {});\n",
              "        if (!dataTable) return;\n",
              "\n",
              "        const docLinkHtml = 'Like what you see? Visit the ' +\n",
              "          '<a target=\"_blank\" href=https://colab.research.google.com/notebooks/data_table.ipynb>data table notebook</a>'\n",
              "          + ' to learn more about interactive tables.';\n",
              "        element.innerHTML = '';\n",
              "        dataTable['output_type'] = 'display_data';\n",
              "        await google.colab.output.renderOutput(dataTable, element);\n",
              "        const docLink = document.createElement('div');\n",
              "        docLink.innerHTML = docLinkHtml;\n",
              "        element.appendChild(docLink);\n",
              "      }\n",
              "    </script>\n",
              "  </div>\n",
              "\n",
              "\n",
              "<div id=\"df-bbcd5a8d-9814-4216-8707-512ace37c3ee\">\n",
              "  <button class=\"colab-df-quickchart\" onclick=\"quickchart('df-bbcd5a8d-9814-4216-8707-512ace37c3ee')\"\n",
              "            title=\"Suggest charts\"\n",
              "            style=\"display:none;\">\n",
              "\n",
              "<svg xmlns=\"http://www.w3.org/2000/svg\" height=\"24px\"viewBox=\"0 0 24 24\"\n",
              "     width=\"24px\">\n",
              "    <g>\n",
              "        <path d=\"M19 3H5c-1.1 0-2 .9-2 2v14c0 1.1.9 2 2 2h14c1.1 0 2-.9 2-2V5c0-1.1-.9-2-2-2zM9 17H7v-7h2v7zm4 0h-2V7h2v10zm4 0h-2v-4h2v4z\"/>\n",
              "    </g>\n",
              "</svg>\n",
              "  </button>\n",
              "\n",
              "<style>\n",
              "  .colab-df-quickchart {\n",
              "      --bg-color: #E8F0FE;\n",
              "      --fill-color: #1967D2;\n",
              "      --hover-bg-color: #E2EBFA;\n",
              "      --hover-fill-color: #174EA6;\n",
              "      --disabled-fill-color: #AAA;\n",
              "      --disabled-bg-color: #DDD;\n",
              "  }\n",
              "\n",
              "  [theme=dark] .colab-df-quickchart {\n",
              "      --bg-color: #3B4455;\n",
              "      --fill-color: #D2E3FC;\n",
              "      --hover-bg-color: #434B5C;\n",
              "      --hover-fill-color: #FFFFFF;\n",
              "      --disabled-bg-color: #3B4455;\n",
              "      --disabled-fill-color: #666;\n",
              "  }\n",
              "\n",
              "  .colab-df-quickchart {\n",
              "    background-color: var(--bg-color);\n",
              "    border: none;\n",
              "    border-radius: 50%;\n",
              "    cursor: pointer;\n",
              "    display: none;\n",
              "    fill: var(--fill-color);\n",
              "    height: 32px;\n",
              "    padding: 0;\n",
              "    width: 32px;\n",
              "  }\n",
              "\n",
              "  .colab-df-quickchart:hover {\n",
              "    background-color: var(--hover-bg-color);\n",
              "    box-shadow: 0 1px 2px rgba(60, 64, 67, 0.3), 0 1px 3px 1px rgba(60, 64, 67, 0.15);\n",
              "    fill: var(--button-hover-fill-color);\n",
              "  }\n",
              "\n",
              "  .colab-df-quickchart-complete:disabled,\n",
              "  .colab-df-quickchart-complete:disabled:hover {\n",
              "    background-color: var(--disabled-bg-color);\n",
              "    fill: var(--disabled-fill-color);\n",
              "    box-shadow: none;\n",
              "  }\n",
              "\n",
              "  .colab-df-spinner {\n",
              "    border: 2px solid var(--fill-color);\n",
              "    border-color: transparent;\n",
              "    border-bottom-color: var(--fill-color);\n",
              "    animation:\n",
              "      spin 1s steps(1) infinite;\n",
              "  }\n",
              "\n",
              "  @keyframes spin {\n",
              "    0% {\n",
              "      border-color: transparent;\n",
              "      border-bottom-color: var(--fill-color);\n",
              "      border-left-color: var(--fill-color);\n",
              "    }\n",
              "    20% {\n",
              "      border-color: transparent;\n",
              "      border-left-color: var(--fill-color);\n",
              "      border-top-color: var(--fill-color);\n",
              "    }\n",
              "    30% {\n",
              "      border-color: transparent;\n",
              "      border-left-color: var(--fill-color);\n",
              "      border-top-color: var(--fill-color);\n",
              "      border-right-color: var(--fill-color);\n",
              "    }\n",
              "    40% {\n",
              "      border-color: transparent;\n",
              "      border-right-color: var(--fill-color);\n",
              "      border-top-color: var(--fill-color);\n",
              "    }\n",
              "    60% {\n",
              "      border-color: transparent;\n",
              "      border-right-color: var(--fill-color);\n",
              "    }\n",
              "    80% {\n",
              "      border-color: transparent;\n",
              "      border-right-color: var(--fill-color);\n",
              "      border-bottom-color: var(--fill-color);\n",
              "    }\n",
              "    90% {\n",
              "      border-color: transparent;\n",
              "      border-bottom-color: var(--fill-color);\n",
              "    }\n",
              "  }\n",
              "</style>\n",
              "\n",
              "  <script>\n",
              "    async function quickchart(key) {\n",
              "      const quickchartButtonEl =\n",
              "        document.querySelector('#' + key + ' button');\n",
              "      quickchartButtonEl.disabled = true;  // To prevent multiple clicks.\n",
              "      quickchartButtonEl.classList.add('colab-df-spinner');\n",
              "      try {\n",
              "        const charts = await google.colab.kernel.invokeFunction(\n",
              "            'suggestCharts', [key], {});\n",
              "      } catch (error) {\n",
              "        console.error('Error during call to suggestCharts:', error);\n",
              "      }\n",
              "      quickchartButtonEl.classList.remove('colab-df-spinner');\n",
              "      quickchartButtonEl.classList.add('colab-df-quickchart-complete');\n",
              "    }\n",
              "    (() => {\n",
              "      let quickchartButtonEl =\n",
              "        document.querySelector('#df-bbcd5a8d-9814-4216-8707-512ace37c3ee button');\n",
              "      quickchartButtonEl.style.display =\n",
              "        google.colab.kernel.accessAllowed ? 'block' : 'none';\n",
              "    })();\n",
              "  </script>\n",
              "</div>\n",
              "\n",
              "    </div>\n",
              "  </div>\n"
            ],
            "application/vnd.google.colaboratory.intrinsic+json": {
              "type": "dataframe",
              "summary": "{\n  \"name\": \"df\",\n  \"rows\": 8,\n  \"fields\": [\n    {\n      \"column\": \"Severity\",\n      \"properties\": {\n        \"dtype\": \"number\",\n        \"std\": 14868.290487848293,\n        \"min\": 0.48868655877228956,\n        \"max\": 42056.0,\n        \"num_unique_values\": 7,\n        \"samples\": [\n          42056.0,\n          2.379303785428952,\n          3.0\n        ],\n        \"semantic_type\": \"\",\n        \"description\": \"\"\n      }\n    },\n    {\n      \"column\": \"Start_Lat\",\n      \"properties\": {\n        \"dtype\": \"number\",\n        \"std\": 14857.413941010454,\n        \"min\": 0.6046397529024325,\n        \"max\": 42056.0,\n        \"num_unique_values\": 8,\n        \"samples\": [\n          37.985847341211716,\n          37.881908,\n          42056.0\n        ],\n        \"semantic_type\": \"\",\n        \"description\": \"\"\n      }\n    },\n    {\n      \"column\": \"Start_Lng\",\n      \"properties\": {\n        \"dtype\": \"number\",\n        \"std\": 14903.810252597079,\n        \"min\": -123.813927,\n        \"max\": 42056.0,\n        \"num_unique_values\": 8,\n        \"samples\": [\n          -121.19010528635629,\n          -121.92282900000001,\n          42056.0\n        ],\n        \"semantic_type\": \"\",\n        \"description\": \"\"\n      }\n    },\n    {\n      \"column\": \"End_Lat\",\n      \"properties\": {\n        \"dtype\": \"number\",\n        \"std\": null,\n        \"min\": 0.0,\n        \"max\": 0.0,\n        \"num_unique_values\": 1,\n        \"samples\": [\n          0.0\n        ],\n        \"semantic_type\": \"\",\n        \"description\": \"\"\n      }\n    },\n    {\n      \"column\": \"End_Lng\",\n      \"properties\": {\n        \"dtype\": \"number\",\n        \"std\": null,\n        \"min\": 0.0,\n        \"max\": 0.0,\n        \"num_unique_values\": 1,\n        \"samples\": [\n          0.0\n        ],\n        \"semantic_type\": \"\",\n        \"description\": \"\"\n      }\n    },\n    {\n      \"column\": \"Distance(mi)\",\n      \"properties\": {\n        \"dtype\": \"number\",\n        \"std\": 14866.448271672762,\n        \"min\": 0.0,\n        \"max\": 42056.0,\n        \"num_unique_values\": 6,\n        \"samples\": [\n          42056.0\n        ],\n        \"semantic_type\": \"\",\n        \"description\": \"\"\n      }\n    },\n    {\n      \"column\": \"Temperature(F)\",\n      \"properties\": {\n        \"dtype\": \"number\",\n        \"std\": 14733.851093970065,\n        \"min\": 3.9,\n        \"max\": 41727.0,\n        \"num_unique_values\": 8,\n        \"samples\": [\n          63.12000383444773\n        ],\n        \"semantic_type\": \"\",\n        \"description\": \"\"\n      }\n    },\n    {\n      \"column\": \"Wind_Chill(F)\",\n      \"properties\": {\n        \"dtype\": \"number\",\n        \"std\": 801.5811768218247,\n        \"min\": -8.4,\n        \"max\": 2297.0,\n        \"num_unique_values\": 8,\n        \"samples\": [\n          35.562559860687855\n        ],\n        \"semantic_type\": \"\",\n        \"description\": \"\"\n      }\n    },\n    {\n      \"column\": \"Humidity(%)\",\n      \"properties\": {\n        \"dtype\": \"number\",\n        \"std\": 14668.93661132819,\n        \"min\": 4.0,\n        \"max\": 41544.0,\n        \"num_unique_values\": 8,\n        \"samples\": [\n          62.27888503755055\n        ],\n        \"semantic_type\": \"\",\n        \"description\": \"\"\n      }\n    },\n    {\n      \"column\": \"Pressure(in)\",\n      \"properties\": {\n        \"dtype\": \"number\",\n        \"std\": 14798.93160580274,\n        \"min\": 0.19521618708291247,\n        \"max\": 41880.0,\n        \"num_unique_values\": 8,\n        \"samples\": [\n          29.9936876790831\n        ],\n        \"semantic_type\": \"\",\n        \"description\": \"\"\n      }\n    },\n    {\n      \"column\": \"Visibility(mi)\",\n      \"properties\": {\n        \"dtype\": \"number\",\n        \"std\": 14730.697364479083,\n        \"min\": 0.1,\n        \"max\": 41682.0,\n        \"num_unique_values\": 6,\n        \"samples\": [\n          41682.0\n        ],\n        \"semantic_type\": \"\",\n        \"description\": \"\"\n      }\n    },\n    {\n      \"column\": \"Wind_Speed(mph)\",\n      \"properties\": {\n        \"dtype\": \"number\",\n        \"std\": 12346.845435597152,\n        \"min\": 1.2,\n        \"max\": 34948.0,\n        \"num_unique_values\": 8,\n        \"samples\": [\n          8.836388348403341\n        ],\n        \"semantic_type\": \"\",\n        \"description\": \"\"\n      }\n    },\n    {\n      \"column\": \"Precipitation(in)\",\n      \"properties\": {\n        \"dtype\": \"number\",\n        \"std\": 1082.900207228792,\n        \"min\": 0.0,\n        \"max\": 3063.0,\n        \"num_unique_values\": 7,\n        \"samples\": [\n          3063.0\n        ],\n        \"semantic_type\": \"\",\n        \"description\": \"\"\n      }\n    }\n  ]\n}"
            }
          },
          "metadata": {},
          "execution_count": 8
        }
      ]
    },
    {
      "cell_type": "code",
      "source": [
        "numerics = ['int16', 'int32', 'int64', 'float16', 'float32', 'float64']\n",
        "\n",
        "numeric_df = df.select_dtypes(include=numerics)\n",
        "len(numeric_df.columns)"
      ],
      "metadata": {
        "colab": {
          "base_uri": "https://localhost:8080/"
        },
        "id": "39gyUnC96L1K",
        "outputId": "40c0da3a-ff58-4cc6-e0ef-70c294d75cbb"
      },
      "execution_count": 9,
      "outputs": [
        {
          "output_type": "execute_result",
          "data": {
            "text/plain": [
              "13"
            ]
          },
          "metadata": {},
          "execution_count": 9
        }
      ]
    },
    {
      "cell_type": "code",
      "source": [
        "df.isna().sum()"
      ],
      "metadata": {
        "colab": {
          "base_uri": "https://localhost:8080/",
          "height": 1000
        },
        "id": "3M78tZE66L28",
        "outputId": "59b534ff-6e0c-406f-bc11-c18c39eb49e9"
      },
      "execution_count": 10,
      "outputs": [
        {
          "output_type": "execute_result",
          "data": {
            "text/plain": [
              "ID                           0\n",
              "Source                       0\n",
              "Severity                     0\n",
              "Start_Time                   0\n",
              "End_Time                     0\n",
              "Start_Lat                    0\n",
              "Start_Lng                    0\n",
              "End_Lat                  42056\n",
              "End_Lng                  42056\n",
              "Distance(mi)                 0\n",
              "Description                  0\n",
              "Street                       1\n",
              "City                         1\n",
              "County                       1\n",
              "State                        1\n",
              "Zipcode                      8\n",
              "Country                      1\n",
              "Timezone                     8\n",
              "Airport_Code                 8\n",
              "Weather_Timestamp          146\n",
              "Temperature(F)             329\n",
              "Wind_Chill(F)            39759\n",
              "Humidity(%)                512\n",
              "Pressure(in)               176\n",
              "Visibility(mi)             374\n",
              "Wind_Direction             146\n",
              "Wind_Speed(mph)           7108\n",
              "Precipitation(in)        38993\n",
              "Weather_Condition          459\n",
              "Amenity                      1\n",
              "Bump                         1\n",
              "Crossing                     1\n",
              "Give_Way                     1\n",
              "Junction                     1\n",
              "No_Exit                      1\n",
              "Railway                      1\n",
              "Roundabout                   1\n",
              "Station                      1\n",
              "Stop                         1\n",
              "Traffic_Calming              1\n",
              "Traffic_Signal               1\n",
              "Turning_Loop                 1\n",
              "Sunrise_Sunset               1\n",
              "Civil_Twilight               1\n",
              "Nautical_Twilight            1\n",
              "Astronomical_Twilight        1\n",
              "dtype: int64"
            ],
            "text/html": [
              "<div>\n",
              "<style scoped>\n",
              "    .dataframe tbody tr th:only-of-type {\n",
              "        vertical-align: middle;\n",
              "    }\n",
              "\n",
              "    .dataframe tbody tr th {\n",
              "        vertical-align: top;\n",
              "    }\n",
              "\n",
              "    .dataframe thead th {\n",
              "        text-align: right;\n",
              "    }\n",
              "</style>\n",
              "<table border=\"1\" class=\"dataframe\">\n",
              "  <thead>\n",
              "    <tr style=\"text-align: right;\">\n",
              "      <th></th>\n",
              "      <th>0</th>\n",
              "    </tr>\n",
              "  </thead>\n",
              "  <tbody>\n",
              "    <tr>\n",
              "      <th>ID</th>\n",
              "      <td>0</td>\n",
              "    </tr>\n",
              "    <tr>\n",
              "      <th>Source</th>\n",
              "      <td>0</td>\n",
              "    </tr>\n",
              "    <tr>\n",
              "      <th>Severity</th>\n",
              "      <td>0</td>\n",
              "    </tr>\n",
              "    <tr>\n",
              "      <th>Start_Time</th>\n",
              "      <td>0</td>\n",
              "    </tr>\n",
              "    <tr>\n",
              "      <th>End_Time</th>\n",
              "      <td>0</td>\n",
              "    </tr>\n",
              "    <tr>\n",
              "      <th>Start_Lat</th>\n",
              "      <td>0</td>\n",
              "    </tr>\n",
              "    <tr>\n",
              "      <th>Start_Lng</th>\n",
              "      <td>0</td>\n",
              "    </tr>\n",
              "    <tr>\n",
              "      <th>End_Lat</th>\n",
              "      <td>42056</td>\n",
              "    </tr>\n",
              "    <tr>\n",
              "      <th>End_Lng</th>\n",
              "      <td>42056</td>\n",
              "    </tr>\n",
              "    <tr>\n",
              "      <th>Distance(mi)</th>\n",
              "      <td>0</td>\n",
              "    </tr>\n",
              "    <tr>\n",
              "      <th>Description</th>\n",
              "      <td>0</td>\n",
              "    </tr>\n",
              "    <tr>\n",
              "      <th>Street</th>\n",
              "      <td>1</td>\n",
              "    </tr>\n",
              "    <tr>\n",
              "      <th>City</th>\n",
              "      <td>1</td>\n",
              "    </tr>\n",
              "    <tr>\n",
              "      <th>County</th>\n",
              "      <td>1</td>\n",
              "    </tr>\n",
              "    <tr>\n",
              "      <th>State</th>\n",
              "      <td>1</td>\n",
              "    </tr>\n",
              "    <tr>\n",
              "      <th>Zipcode</th>\n",
              "      <td>8</td>\n",
              "    </tr>\n",
              "    <tr>\n",
              "      <th>Country</th>\n",
              "      <td>1</td>\n",
              "    </tr>\n",
              "    <tr>\n",
              "      <th>Timezone</th>\n",
              "      <td>8</td>\n",
              "    </tr>\n",
              "    <tr>\n",
              "      <th>Airport_Code</th>\n",
              "      <td>8</td>\n",
              "    </tr>\n",
              "    <tr>\n",
              "      <th>Weather_Timestamp</th>\n",
              "      <td>146</td>\n",
              "    </tr>\n",
              "    <tr>\n",
              "      <th>Temperature(F)</th>\n",
              "      <td>329</td>\n",
              "    </tr>\n",
              "    <tr>\n",
              "      <th>Wind_Chill(F)</th>\n",
              "      <td>39759</td>\n",
              "    </tr>\n",
              "    <tr>\n",
              "      <th>Humidity(%)</th>\n",
              "      <td>512</td>\n",
              "    </tr>\n",
              "    <tr>\n",
              "      <th>Pressure(in)</th>\n",
              "      <td>176</td>\n",
              "    </tr>\n",
              "    <tr>\n",
              "      <th>Visibility(mi)</th>\n",
              "      <td>374</td>\n",
              "    </tr>\n",
              "    <tr>\n",
              "      <th>Wind_Direction</th>\n",
              "      <td>146</td>\n",
              "    </tr>\n",
              "    <tr>\n",
              "      <th>Wind_Speed(mph)</th>\n",
              "      <td>7108</td>\n",
              "    </tr>\n",
              "    <tr>\n",
              "      <th>Precipitation(in)</th>\n",
              "      <td>38993</td>\n",
              "    </tr>\n",
              "    <tr>\n",
              "      <th>Weather_Condition</th>\n",
              "      <td>459</td>\n",
              "    </tr>\n",
              "    <tr>\n",
              "      <th>Amenity</th>\n",
              "      <td>1</td>\n",
              "    </tr>\n",
              "    <tr>\n",
              "      <th>Bump</th>\n",
              "      <td>1</td>\n",
              "    </tr>\n",
              "    <tr>\n",
              "      <th>Crossing</th>\n",
              "      <td>1</td>\n",
              "    </tr>\n",
              "    <tr>\n",
              "      <th>Give_Way</th>\n",
              "      <td>1</td>\n",
              "    </tr>\n",
              "    <tr>\n",
              "      <th>Junction</th>\n",
              "      <td>1</td>\n",
              "    </tr>\n",
              "    <tr>\n",
              "      <th>No_Exit</th>\n",
              "      <td>1</td>\n",
              "    </tr>\n",
              "    <tr>\n",
              "      <th>Railway</th>\n",
              "      <td>1</td>\n",
              "    </tr>\n",
              "    <tr>\n",
              "      <th>Roundabout</th>\n",
              "      <td>1</td>\n",
              "    </tr>\n",
              "    <tr>\n",
              "      <th>Station</th>\n",
              "      <td>1</td>\n",
              "    </tr>\n",
              "    <tr>\n",
              "      <th>Stop</th>\n",
              "      <td>1</td>\n",
              "    </tr>\n",
              "    <tr>\n",
              "      <th>Traffic_Calming</th>\n",
              "      <td>1</td>\n",
              "    </tr>\n",
              "    <tr>\n",
              "      <th>Traffic_Signal</th>\n",
              "      <td>1</td>\n",
              "    </tr>\n",
              "    <tr>\n",
              "      <th>Turning_Loop</th>\n",
              "      <td>1</td>\n",
              "    </tr>\n",
              "    <tr>\n",
              "      <th>Sunrise_Sunset</th>\n",
              "      <td>1</td>\n",
              "    </tr>\n",
              "    <tr>\n",
              "      <th>Civil_Twilight</th>\n",
              "      <td>1</td>\n",
              "    </tr>\n",
              "    <tr>\n",
              "      <th>Nautical_Twilight</th>\n",
              "      <td>1</td>\n",
              "    </tr>\n",
              "    <tr>\n",
              "      <th>Astronomical_Twilight</th>\n",
              "      <td>1</td>\n",
              "    </tr>\n",
              "  </tbody>\n",
              "</table>\n",
              "</div><br><label><b>dtype:</b> int64</label>"
            ]
          },
          "metadata": {},
          "execution_count": 10
        }
      ]
    },
    {
      "cell_type": "code",
      "source": [
        "missing_percentage = df.isna().sum().sort_values(ascending = False) / len(df) * 100\n",
        "missing_percentage"
      ],
      "metadata": {
        "colab": {
          "base_uri": "https://localhost:8080/",
          "height": 1000
        },
        "id": "fkJ9a5Gh6L47",
        "outputId": "e5dc4122-c9ce-46ee-b485-0e40ecc82065"
      },
      "execution_count": 11,
      "outputs": [
        {
          "output_type": "execute_result",
          "data": {
            "text/plain": [
              "End_Lat                  100.000000\n",
              "End_Lng                  100.000000\n",
              "Wind_Chill(F)             94.538235\n",
              "Precipitation(in)         92.716854\n",
              "Wind_Speed(mph)           16.901274\n",
              "Humidity(%)                1.217424\n",
              "Weather_Condition          1.091402\n",
              "Visibility(mi)             0.889290\n",
              "Temperature(F)             0.782290\n",
              "Pressure(in)               0.418490\n",
              "Wind_Direction             0.347156\n",
              "Weather_Timestamp          0.347156\n",
              "Timezone                   0.019022\n",
              "Airport_Code               0.019022\n",
              "Zipcode                    0.019022\n",
              "Bump                       0.002378\n",
              "Junction                   0.002378\n",
              "No_Exit                    0.002378\n",
              "Railway                    0.002378\n",
              "Roundabout                 0.002378\n",
              "Station                    0.002378\n",
              "Stop                       0.002378\n",
              "Traffic_Calming            0.002378\n",
              "Give_Way                   0.002378\n",
              "Traffic_Signal             0.002378\n",
              "Turning_Loop               0.002378\n",
              "Sunrise_Sunset             0.002378\n",
              "Civil_Twilight             0.002378\n",
              "Nautical_Twilight          0.002378\n",
              "Crossing                   0.002378\n",
              "Astronomical_Twilight      0.002378\n",
              "Amenity                    0.002378\n",
              "Country                    0.002378\n",
              "State                      0.002378\n",
              "County                     0.002378\n",
              "City                       0.002378\n",
              "Street                     0.002378\n",
              "Source                     0.000000\n",
              "Description                0.000000\n",
              "Distance(mi)               0.000000\n",
              "Start_Lng                  0.000000\n",
              "Start_Lat                  0.000000\n",
              "End_Time                   0.000000\n",
              "Start_Time                 0.000000\n",
              "Severity                   0.000000\n",
              "ID                         0.000000\n",
              "dtype: float64"
            ],
            "text/html": [
              "<div>\n",
              "<style scoped>\n",
              "    .dataframe tbody tr th:only-of-type {\n",
              "        vertical-align: middle;\n",
              "    }\n",
              "\n",
              "    .dataframe tbody tr th {\n",
              "        vertical-align: top;\n",
              "    }\n",
              "\n",
              "    .dataframe thead th {\n",
              "        text-align: right;\n",
              "    }\n",
              "</style>\n",
              "<table border=\"1\" class=\"dataframe\">\n",
              "  <thead>\n",
              "    <tr style=\"text-align: right;\">\n",
              "      <th></th>\n",
              "      <th>0</th>\n",
              "    </tr>\n",
              "  </thead>\n",
              "  <tbody>\n",
              "    <tr>\n",
              "      <th>End_Lat</th>\n",
              "      <td>100.000000</td>\n",
              "    </tr>\n",
              "    <tr>\n",
              "      <th>End_Lng</th>\n",
              "      <td>100.000000</td>\n",
              "    </tr>\n",
              "    <tr>\n",
              "      <th>Wind_Chill(F)</th>\n",
              "      <td>94.538235</td>\n",
              "    </tr>\n",
              "    <tr>\n",
              "      <th>Precipitation(in)</th>\n",
              "      <td>92.716854</td>\n",
              "    </tr>\n",
              "    <tr>\n",
              "      <th>Wind_Speed(mph)</th>\n",
              "      <td>16.901274</td>\n",
              "    </tr>\n",
              "    <tr>\n",
              "      <th>Humidity(%)</th>\n",
              "      <td>1.217424</td>\n",
              "    </tr>\n",
              "    <tr>\n",
              "      <th>Weather_Condition</th>\n",
              "      <td>1.091402</td>\n",
              "    </tr>\n",
              "    <tr>\n",
              "      <th>Visibility(mi)</th>\n",
              "      <td>0.889290</td>\n",
              "    </tr>\n",
              "    <tr>\n",
              "      <th>Temperature(F)</th>\n",
              "      <td>0.782290</td>\n",
              "    </tr>\n",
              "    <tr>\n",
              "      <th>Pressure(in)</th>\n",
              "      <td>0.418490</td>\n",
              "    </tr>\n",
              "    <tr>\n",
              "      <th>Wind_Direction</th>\n",
              "      <td>0.347156</td>\n",
              "    </tr>\n",
              "    <tr>\n",
              "      <th>Weather_Timestamp</th>\n",
              "      <td>0.347156</td>\n",
              "    </tr>\n",
              "    <tr>\n",
              "      <th>Timezone</th>\n",
              "      <td>0.019022</td>\n",
              "    </tr>\n",
              "    <tr>\n",
              "      <th>Airport_Code</th>\n",
              "      <td>0.019022</td>\n",
              "    </tr>\n",
              "    <tr>\n",
              "      <th>Zipcode</th>\n",
              "      <td>0.019022</td>\n",
              "    </tr>\n",
              "    <tr>\n",
              "      <th>Bump</th>\n",
              "      <td>0.002378</td>\n",
              "    </tr>\n",
              "    <tr>\n",
              "      <th>Junction</th>\n",
              "      <td>0.002378</td>\n",
              "    </tr>\n",
              "    <tr>\n",
              "      <th>No_Exit</th>\n",
              "      <td>0.002378</td>\n",
              "    </tr>\n",
              "    <tr>\n",
              "      <th>Railway</th>\n",
              "      <td>0.002378</td>\n",
              "    </tr>\n",
              "    <tr>\n",
              "      <th>Roundabout</th>\n",
              "      <td>0.002378</td>\n",
              "    </tr>\n",
              "    <tr>\n",
              "      <th>Station</th>\n",
              "      <td>0.002378</td>\n",
              "    </tr>\n",
              "    <tr>\n",
              "      <th>Stop</th>\n",
              "      <td>0.002378</td>\n",
              "    </tr>\n",
              "    <tr>\n",
              "      <th>Traffic_Calming</th>\n",
              "      <td>0.002378</td>\n",
              "    </tr>\n",
              "    <tr>\n",
              "      <th>Give_Way</th>\n",
              "      <td>0.002378</td>\n",
              "    </tr>\n",
              "    <tr>\n",
              "      <th>Traffic_Signal</th>\n",
              "      <td>0.002378</td>\n",
              "    </tr>\n",
              "    <tr>\n",
              "      <th>Turning_Loop</th>\n",
              "      <td>0.002378</td>\n",
              "    </tr>\n",
              "    <tr>\n",
              "      <th>Sunrise_Sunset</th>\n",
              "      <td>0.002378</td>\n",
              "    </tr>\n",
              "    <tr>\n",
              "      <th>Civil_Twilight</th>\n",
              "      <td>0.002378</td>\n",
              "    </tr>\n",
              "    <tr>\n",
              "      <th>Nautical_Twilight</th>\n",
              "      <td>0.002378</td>\n",
              "    </tr>\n",
              "    <tr>\n",
              "      <th>Crossing</th>\n",
              "      <td>0.002378</td>\n",
              "    </tr>\n",
              "    <tr>\n",
              "      <th>Astronomical_Twilight</th>\n",
              "      <td>0.002378</td>\n",
              "    </tr>\n",
              "    <tr>\n",
              "      <th>Amenity</th>\n",
              "      <td>0.002378</td>\n",
              "    </tr>\n",
              "    <tr>\n",
              "      <th>Country</th>\n",
              "      <td>0.002378</td>\n",
              "    </tr>\n",
              "    <tr>\n",
              "      <th>State</th>\n",
              "      <td>0.002378</td>\n",
              "    </tr>\n",
              "    <tr>\n",
              "      <th>County</th>\n",
              "      <td>0.002378</td>\n",
              "    </tr>\n",
              "    <tr>\n",
              "      <th>City</th>\n",
              "      <td>0.002378</td>\n",
              "    </tr>\n",
              "    <tr>\n",
              "      <th>Street</th>\n",
              "      <td>0.002378</td>\n",
              "    </tr>\n",
              "    <tr>\n",
              "      <th>Source</th>\n",
              "      <td>0.000000</td>\n",
              "    </tr>\n",
              "    <tr>\n",
              "      <th>Description</th>\n",
              "      <td>0.000000</td>\n",
              "    </tr>\n",
              "    <tr>\n",
              "      <th>Distance(mi)</th>\n",
              "      <td>0.000000</td>\n",
              "    </tr>\n",
              "    <tr>\n",
              "      <th>Start_Lng</th>\n",
              "      <td>0.000000</td>\n",
              "    </tr>\n",
              "    <tr>\n",
              "      <th>Start_Lat</th>\n",
              "      <td>0.000000</td>\n",
              "    </tr>\n",
              "    <tr>\n",
              "      <th>End_Time</th>\n",
              "      <td>0.000000</td>\n",
              "    </tr>\n",
              "    <tr>\n",
              "      <th>Start_Time</th>\n",
              "      <td>0.000000</td>\n",
              "    </tr>\n",
              "    <tr>\n",
              "      <th>Severity</th>\n",
              "      <td>0.000000</td>\n",
              "    </tr>\n",
              "    <tr>\n",
              "      <th>ID</th>\n",
              "      <td>0.000000</td>\n",
              "    </tr>\n",
              "  </tbody>\n",
              "</table>\n",
              "</div><br><label><b>dtype:</b> float64</label>"
            ]
          },
          "metadata": {},
          "execution_count": 11
        }
      ]
    },
    {
      "cell_type": "code",
      "source": [
        "missing_percentage[missing_percentage !=0]"
      ],
      "metadata": {
        "colab": {
          "base_uri": "https://localhost:8080/",
          "height": 1000
        },
        "id": "TzRYGLL06L6h",
        "outputId": "863dd011-55d4-4d1b-a7d5-a31b83a0f65e"
      },
      "execution_count": 12,
      "outputs": [
        {
          "output_type": "execute_result",
          "data": {
            "text/plain": [
              "End_Lat                  100.000000\n",
              "End_Lng                  100.000000\n",
              "Wind_Chill(F)             94.538235\n",
              "Precipitation(in)         92.716854\n",
              "Wind_Speed(mph)           16.901274\n",
              "Humidity(%)                1.217424\n",
              "Weather_Condition          1.091402\n",
              "Visibility(mi)             0.889290\n",
              "Temperature(F)             0.782290\n",
              "Pressure(in)               0.418490\n",
              "Wind_Direction             0.347156\n",
              "Weather_Timestamp          0.347156\n",
              "Timezone                   0.019022\n",
              "Airport_Code               0.019022\n",
              "Zipcode                    0.019022\n",
              "Bump                       0.002378\n",
              "Junction                   0.002378\n",
              "No_Exit                    0.002378\n",
              "Railway                    0.002378\n",
              "Roundabout                 0.002378\n",
              "Station                    0.002378\n",
              "Stop                       0.002378\n",
              "Traffic_Calming            0.002378\n",
              "Give_Way                   0.002378\n",
              "Traffic_Signal             0.002378\n",
              "Turning_Loop               0.002378\n",
              "Sunrise_Sunset             0.002378\n",
              "Civil_Twilight             0.002378\n",
              "Nautical_Twilight          0.002378\n",
              "Crossing                   0.002378\n",
              "Astronomical_Twilight      0.002378\n",
              "Amenity                    0.002378\n",
              "Country                    0.002378\n",
              "State                      0.002378\n",
              "County                     0.002378\n",
              "City                       0.002378\n",
              "Street                     0.002378\n",
              "dtype: float64"
            ],
            "text/html": [
              "<div>\n",
              "<style scoped>\n",
              "    .dataframe tbody tr th:only-of-type {\n",
              "        vertical-align: middle;\n",
              "    }\n",
              "\n",
              "    .dataframe tbody tr th {\n",
              "        vertical-align: top;\n",
              "    }\n",
              "\n",
              "    .dataframe thead th {\n",
              "        text-align: right;\n",
              "    }\n",
              "</style>\n",
              "<table border=\"1\" class=\"dataframe\">\n",
              "  <thead>\n",
              "    <tr style=\"text-align: right;\">\n",
              "      <th></th>\n",
              "      <th>0</th>\n",
              "    </tr>\n",
              "  </thead>\n",
              "  <tbody>\n",
              "    <tr>\n",
              "      <th>End_Lat</th>\n",
              "      <td>100.000000</td>\n",
              "    </tr>\n",
              "    <tr>\n",
              "      <th>End_Lng</th>\n",
              "      <td>100.000000</td>\n",
              "    </tr>\n",
              "    <tr>\n",
              "      <th>Wind_Chill(F)</th>\n",
              "      <td>94.538235</td>\n",
              "    </tr>\n",
              "    <tr>\n",
              "      <th>Precipitation(in)</th>\n",
              "      <td>92.716854</td>\n",
              "    </tr>\n",
              "    <tr>\n",
              "      <th>Wind_Speed(mph)</th>\n",
              "      <td>16.901274</td>\n",
              "    </tr>\n",
              "    <tr>\n",
              "      <th>Humidity(%)</th>\n",
              "      <td>1.217424</td>\n",
              "    </tr>\n",
              "    <tr>\n",
              "      <th>Weather_Condition</th>\n",
              "      <td>1.091402</td>\n",
              "    </tr>\n",
              "    <tr>\n",
              "      <th>Visibility(mi)</th>\n",
              "      <td>0.889290</td>\n",
              "    </tr>\n",
              "    <tr>\n",
              "      <th>Temperature(F)</th>\n",
              "      <td>0.782290</td>\n",
              "    </tr>\n",
              "    <tr>\n",
              "      <th>Pressure(in)</th>\n",
              "      <td>0.418490</td>\n",
              "    </tr>\n",
              "    <tr>\n",
              "      <th>Wind_Direction</th>\n",
              "      <td>0.347156</td>\n",
              "    </tr>\n",
              "    <tr>\n",
              "      <th>Weather_Timestamp</th>\n",
              "      <td>0.347156</td>\n",
              "    </tr>\n",
              "    <tr>\n",
              "      <th>Timezone</th>\n",
              "      <td>0.019022</td>\n",
              "    </tr>\n",
              "    <tr>\n",
              "      <th>Airport_Code</th>\n",
              "      <td>0.019022</td>\n",
              "    </tr>\n",
              "    <tr>\n",
              "      <th>Zipcode</th>\n",
              "      <td>0.019022</td>\n",
              "    </tr>\n",
              "    <tr>\n",
              "      <th>Bump</th>\n",
              "      <td>0.002378</td>\n",
              "    </tr>\n",
              "    <tr>\n",
              "      <th>Junction</th>\n",
              "      <td>0.002378</td>\n",
              "    </tr>\n",
              "    <tr>\n",
              "      <th>No_Exit</th>\n",
              "      <td>0.002378</td>\n",
              "    </tr>\n",
              "    <tr>\n",
              "      <th>Railway</th>\n",
              "      <td>0.002378</td>\n",
              "    </tr>\n",
              "    <tr>\n",
              "      <th>Roundabout</th>\n",
              "      <td>0.002378</td>\n",
              "    </tr>\n",
              "    <tr>\n",
              "      <th>Station</th>\n",
              "      <td>0.002378</td>\n",
              "    </tr>\n",
              "    <tr>\n",
              "      <th>Stop</th>\n",
              "      <td>0.002378</td>\n",
              "    </tr>\n",
              "    <tr>\n",
              "      <th>Traffic_Calming</th>\n",
              "      <td>0.002378</td>\n",
              "    </tr>\n",
              "    <tr>\n",
              "      <th>Give_Way</th>\n",
              "      <td>0.002378</td>\n",
              "    </tr>\n",
              "    <tr>\n",
              "      <th>Traffic_Signal</th>\n",
              "      <td>0.002378</td>\n",
              "    </tr>\n",
              "    <tr>\n",
              "      <th>Turning_Loop</th>\n",
              "      <td>0.002378</td>\n",
              "    </tr>\n",
              "    <tr>\n",
              "      <th>Sunrise_Sunset</th>\n",
              "      <td>0.002378</td>\n",
              "    </tr>\n",
              "    <tr>\n",
              "      <th>Civil_Twilight</th>\n",
              "      <td>0.002378</td>\n",
              "    </tr>\n",
              "    <tr>\n",
              "      <th>Nautical_Twilight</th>\n",
              "      <td>0.002378</td>\n",
              "    </tr>\n",
              "    <tr>\n",
              "      <th>Crossing</th>\n",
              "      <td>0.002378</td>\n",
              "    </tr>\n",
              "    <tr>\n",
              "      <th>Astronomical_Twilight</th>\n",
              "      <td>0.002378</td>\n",
              "    </tr>\n",
              "    <tr>\n",
              "      <th>Amenity</th>\n",
              "      <td>0.002378</td>\n",
              "    </tr>\n",
              "    <tr>\n",
              "      <th>Country</th>\n",
              "      <td>0.002378</td>\n",
              "    </tr>\n",
              "    <tr>\n",
              "      <th>State</th>\n",
              "      <td>0.002378</td>\n",
              "    </tr>\n",
              "    <tr>\n",
              "      <th>County</th>\n",
              "      <td>0.002378</td>\n",
              "    </tr>\n",
              "    <tr>\n",
              "      <th>City</th>\n",
              "      <td>0.002378</td>\n",
              "    </tr>\n",
              "    <tr>\n",
              "      <th>Street</th>\n",
              "      <td>0.002378</td>\n",
              "    </tr>\n",
              "  </tbody>\n",
              "</table>\n",
              "</div><br><label><b>dtype:</b> float64</label>"
            ]
          },
          "metadata": {},
          "execution_count": 12
        }
      ]
    },
    {
      "cell_type": "code",
      "source": [
        "colors = plt.cm.viridis(np.linspace(0, 1, len(missing_percentage[missing_percentage != 0])))\n",
        "\n",
        "missing_percentage[missing_percentage != 0].plot(kind=\"barh\", color=colors)\n",
        "plt.xlabel('Percentage Missing')\n",
        "plt.ylabel('Columns')\n",
        "plt.title('Percentage of Missing Values in Columns')\n",
        "plt.show()"
      ],
      "metadata": {
        "colab": {
          "base_uri": "https://localhost:8080/",
          "height": 472
        },
        "id": "wfwXNgoV6L8Y",
        "outputId": "4882aff0-ebeb-4741-8343-95d6f0191c78"
      },
      "execution_count": 13,
      "outputs": [
        {
          "output_type": "display_data",
          "data": {
            "text/plain": [
              "<Figure size 640x480 with 1 Axes>"
            ],
            "image/png": "[encoded data removed]"
          },
          "metadata": {}
        }
      ]
    },
    {
      "cell_type": "markdown",
      "source": [
        "# **Exploratory Analysis and Data Visualization**\n",
        "\n",
        "Columns we'll Analyze\n",
        "\n",
        "City\n",
        "\n",
        "Start Time\n",
        "\n",
        "Start Lng, Start Lat\n",
        "\n",
        "Temperature\n",
        "\n",
        "Weather Condition\n"
      ],
      "metadata": {
        "id": "FLzUR20d60N-"
      }
    },
    {
      "cell_type": "code",
      "source": [
        "df.columns"
      ],
      "metadata": {
        "colab": {
          "base_uri": "https://localhost:8080/"
        },
        "id": "9v5WkRbB6L-a",
        "outputId": "b83d9bd8-ae5d-447d-b993-21f615df5e4b"
      },
      "execution_count": 14,
      "outputs": [
        {
          "output_type": "execute_result",
          "data": {
            "text/plain": [
              "Index(['ID', 'Source', 'Severity', 'Start_Time', 'End_Time', 'Start_Lat',\n",
              "       'Start_Lng', 'End_Lat', 'End_Lng', 'Distance(mi)', 'Description',\n",
              "       'Street', 'City', 'County', 'State', 'Zipcode', 'Country', 'Timezone',\n",
              "       'Airport_Code', 'Weather_Timestamp', 'Temperature(F)', 'Wind_Chill(F)',\n",
              "       'Humidity(%)', 'Pressure(in)', 'Visibility(mi)', 'Wind_Direction',\n",
              "       'Wind_Speed(mph)', 'Precipitation(in)', 'Weather_Condition', 'Amenity',\n",
              "       'Bump', 'Crossing', 'Give_Way', 'Junction', 'No_Exit', 'Railway',\n",
              "       'Roundabout', 'Station', 'Stop', 'Traffic_Calming', 'Traffic_Signal',\n",
              "       'Turning_Loop', 'Sunrise_Sunset', 'Civil_Twilight', 'Nautical_Twilight',\n",
              "       'Astronomical_Twilight'],\n",
              "      dtype='object')"
            ]
          },
          "metadata": {},
          "execution_count": 14
        }
      ]
    },
    {
      "cell_type": "code",
      "source": [
        "cities = df.City.unique()\n",
        "len(cities)"
      ],
      "metadata": {
        "colab": {
          "base_uri": "https://localhost:8080/"
        },
        "id": "_jaIFU237F8F",
        "outputId": "21af6d39-8e07-403f-f180-1c3b699e96fc"
      },
      "execution_count": 15,
      "outputs": [
        {
          "output_type": "execute_result",
          "data": {
            "text/plain": [
              "460"
            ]
          },
          "metadata": {},
          "execution_count": 15
        }
      ]
    },
    {
      "cell_type": "code",
      "source": [
        "cities_by_accident = df.City.value_counts()\n",
        "cities_by_accident"
      ],
      "metadata": {
        "colab": {
          "base_uri": "https://localhost:8080/",
          "height": 484
        },
        "id": "nX3PYYfp7F-S",
        "outputId": "d377050d-35ec-459d-9190-a1b883ff3278"
      },
      "execution_count": 16,
      "outputs": [
        {
          "output_type": "execute_result",
          "data": {
            "text/plain": [
              "City\n",
              "Sacramento       5144\n",
              "San Jose         2943\n",
              "Oakland          1765\n",
              "San Francisco    1266\n",
              "Hayward           911\n",
              "                 ... \n",
              "Tiro                1\n",
              "Strongsville        1\n",
              "Circleville         1\n",
              "Peebles             1\n",
              "Berry Creek         1\n",
              "Name: count, Length: 459, dtype: int64"
            ],
            "text/html": [
              "<div>\n",
              "<style scoped>\n",
              "    .dataframe tbody tr th:only-of-type {\n",
              "        vertical-align: middle;\n",
              "    }\n",
              "\n",
              "    .dataframe tbody tr th {\n",
              "        vertical-align: top;\n",
              "    }\n",
              "\n",
              "    .dataframe thead th {\n",
              "        text-align: right;\n",
              "    }\n",
              "</style>\n",
              "<table border=\"1\" class=\"dataframe\">\n",
              "  <thead>\n",
              "    <tr style=\"text-align: right;\">\n",
              "      <th></th>\n",
              "      <th>count</th>\n",
              "    </tr>\n",
              "    <tr>\n",
              "      <th>City</th>\n",
              "      <th></th>\n",
              "    </tr>\n",
              "  </thead>\n",
              "  <tbody>\n",
              "    <tr>\n",
              "      <th>Sacramento</th>\n",
              "      <td>5144</td>\n",
              "    </tr>\n",
              "    <tr>\n",
              "      <th>San Jose</th>\n",
              "      <td>2943</td>\n",
              "    </tr>\n",
              "    <tr>\n",
              "      <th>Oakland</th>\n",
              "      <td>1765</td>\n",
              "    </tr>\n",
              "    <tr>\n",
              "      <th>San Francisco</th>\n",
              "      <td>1266</td>\n",
              "    </tr>\n",
              "    <tr>\n",
              "      <th>Hayward</th>\n",
              "      <td>911</td>\n",
              "    </tr>\n",
              "    <tr>\n",
              "      <th>...</th>\n",
              "      <td>...</td>\n",
              "    </tr>\n",
              "    <tr>\n",
              "      <th>Tiro</th>\n",
              "      <td>1</td>\n",
              "    </tr>\n",
              "    <tr>\n",
              "      <th>Strongsville</th>\n",
              "      <td>1</td>\n",
              "    </tr>\n",
              "    <tr>\n",
              "      <th>Circleville</th>\n",
              "      <td>1</td>\n",
              "    </tr>\n",
              "    <tr>\n",
              "      <th>Peebles</th>\n",
              "      <td>1</td>\n",
              "    </tr>\n",
              "    <tr>\n",
              "      <th>Berry Creek</th>\n",
              "      <td>1</td>\n",
              "    </tr>\n",
              "  </tbody>\n",
              "</table>\n",
              "<p>459 rows × 1 columns</p>\n",
              "</div><br><label><b>dtype:</b> int64</label>"
            ]
          },
          "metadata": {},
          "execution_count": 16
        }
      ]
    },
    {
      "cell_type": "code",
      "source": [
        "cities_by_accident[:20]"
      ],
      "metadata": {
        "colab": {
          "base_uri": "https://localhost:8080/",
          "height": 734
        },
        "id": "MulRe2Yy7F_v",
        "outputId": "37a8955d-52db-464e-9b10-f34f406dd9bf"
      },
      "execution_count": 17,
      "outputs": [
        {
          "output_type": "execute_result",
          "data": {
            "text/plain": [
              "City\n",
              "Sacramento       5144\n",
              "San Jose         2943\n",
              "Oakland          1765\n",
              "San Francisco    1266\n",
              "Hayward           911\n",
              "Stockton          866\n",
              "Fremont           761\n",
              "Tracy             738\n",
              "Santa Rosa        728\n",
              "Livermore         661\n",
              "Fairfield         649\n",
              "Los Gatos         523\n",
              "Pleasanton        511\n",
              "San Mateo         498\n",
              "San Leandro       473\n",
              "Redwood City      439\n",
              "Castro Valley     428\n",
              "Vallejo           425\n",
              "Petaluma          411\n",
              "Berkeley          401\n",
              "Name: count, dtype: int64"
            ],
            "text/html": [
              "<div>\n",
              "<style scoped>\n",
              "    .dataframe tbody tr th:only-of-type {\n",
              "        vertical-align: middle;\n",
              "    }\n",
              "\n",
              "    .dataframe tbody tr th {\n",
              "        vertical-align: top;\n",
              "    }\n",
              "\n",
              "    .dataframe thead th {\n",
              "        text-align: right;\n",
              "    }\n",
              "</style>\n",
              "<table border=\"1\" class=\"dataframe\">\n",
              "  <thead>\n",
              "    <tr style=\"text-align: right;\">\n",
              "      <th></th>\n",
              "      <th>count</th>\n",
              "    </tr>\n",
              "    <tr>\n",
              "      <th>City</th>\n",
              "      <th></th>\n",
              "    </tr>\n",
              "  </thead>\n",
              "  <tbody>\n",
              "    <tr>\n",
              "      <th>Sacramento</th>\n",
              "      <td>5144</td>\n",
              "    </tr>\n",
              "    <tr>\n",
              "      <th>San Jose</th>\n",
              "      <td>2943</td>\n",
              "    </tr>\n",
              "    <tr>\n",
              "      <th>Oakland</th>\n",
              "      <td>1765</td>\n",
              "    </tr>\n",
              "    <tr>\n",
              "      <th>San Francisco</th>\n",
              "      <td>1266</td>\n",
              "    </tr>\n",
              "    <tr>\n",
              "      <th>Hayward</th>\n",
              "      <td>911</td>\n",
              "    </tr>\n",
              "    <tr>\n",
              "      <th>Stockton</th>\n",
              "      <td>866</td>\n",
              "    </tr>\n",
              "    <tr>\n",
              "      <th>Fremont</th>\n",
              "      <td>761</td>\n",
              "    </tr>\n",
              "    <tr>\n",
              "      <th>Tracy</th>\n",
              "      <td>738</td>\n",
              "    </tr>\n",
              "    <tr>\n",
              "      <th>Santa Rosa</th>\n",
              "      <td>728</td>\n",
              "    </tr>\n",
              "    <tr>\n",
              "      <th>Livermore</th>\n",
              "      <td>661</td>\n",
              "    </tr>\n",
              "    <tr>\n",
              "      <th>Fairfield</th>\n",
              "      <td>649</td>\n",
              "    </tr>\n",
              "    <tr>\n",
              "      <th>Los Gatos</th>\n",
              "      <td>523</td>\n",
              "    </tr>\n",
              "    <tr>\n",
              "      <th>Pleasanton</th>\n",
              "      <td>511</td>\n",
              "    </tr>\n",
              "    <tr>\n",
              "      <th>San Mateo</th>\n",
              "      <td>498</td>\n",
              "    </tr>\n",
              "    <tr>\n",
              "      <th>San Leandro</th>\n",
              "      <td>473</td>\n",
              "    </tr>\n",
              "    <tr>\n",
              "      <th>Redwood City</th>\n",
              "      <td>439</td>\n",
              "    </tr>\n",
              "    <tr>\n",
              "      <th>Castro Valley</th>\n",
              "      <td>428</td>\n",
              "    </tr>\n",
              "    <tr>\n",
              "      <th>Vallejo</th>\n",
              "      <td>425</td>\n",
              "    </tr>\n",
              "    <tr>\n",
              "      <th>Petaluma</th>\n",
              "      <td>411</td>\n",
              "    </tr>\n",
              "    <tr>\n",
              "      <th>Berkeley</th>\n",
              "      <td>401</td>\n",
              "    </tr>\n",
              "  </tbody>\n",
              "</table>\n",
              "</div><br><label><b>dtype:</b> int64</label>"
            ]
          },
          "metadata": {},
          "execution_count": 17
        }
      ]
    },
    {
      "cell_type": "code",
      "source": [
        "\"New York\" in df.City"
      ],
      "metadata": {
        "colab": {
          "base_uri": "https://localhost:8080/"
        },
        "id": "SrQKFTkx7GBq",
        "outputId": "683a4fcf-f670-4d20-88a7-38ad0f7ad0d6"
      },
      "execution_count": 18,
      "outputs": [
        {
          "output_type": "execute_result",
          "data": {
            "text/plain": [
              "False"
            ]
          },
          "metadata": {},
          "execution_count": 18
        }
      ]
    },
    {
      "cell_type": "code",
      "source": [
        "cities_by_accident[:20].plot(kind=\"barh\")"
      ],
      "metadata": {
        "colab": {
          "base_uri": "https://localhost:8080/",
          "height": 447
        },
        "id": "1e3pW-lt7GDQ",
        "outputId": "0c8cfff5-bfba-4c2f-b902-c00b202d9557"
      },
      "execution_count": 19,
      "outputs": [
        {
          "output_type": "execute_result",
          "data": {
            "text/plain": [
              "<Axes: ylabel='City'>"
            ]
          },
          "metadata": {},
          "execution_count": 19
        },
        {
          "output_type": "display_data",
          "data": {
            "text/plain": [
              "<Figure size 640x480 with 1 Axes>"
            ],
            "image/png": "[encoded data removed]"
          },
          "metadata": {}
        }
      ]
    },
    {
      "cell_type": "code",
      "source": [
        "import seaborn as sns\n",
        "sns.set_style(\"darkgrid\")"
      ],
      "metadata": {
        "id": "hb-WzeWL7GFW"
      },
      "execution_count": 20,
      "outputs": []
    },
    {
      "cell_type": "code",
      "source": [
        "highest_cities_accident= cities_by_accident[cities_by_accident >=1000]\n",
        "len(highest_cities_accident)"
      ],
      "metadata": {
        "colab": {
          "base_uri": "https://localhost:8080/"
        },
        "id": "iN4Z5Ru27GHW",
        "outputId": "68efc9c0-693e-47c0-874e-680ece15beee"
      },
      "execution_count": 21,
      "outputs": [
        {
          "output_type": "execute_result",
          "data": {
            "text/plain": [
              "4"
            ]
          },
          "metadata": {},
          "execution_count": 21
        }
      ]
    },
    {
      "cell_type": "code",
      "source": [
        "sns.distplot(highest_cities_accident)"
      ],
      "metadata": {
        "colab": {
          "base_uri": "https://localhost:8080/",
          "height": 653
        },
        "id": "cTNakbGv7GJD",
        "outputId": "f420944c-148c-4086-90f5-e22bd30e3ffe"
      },
      "execution_count": 22,
      "outputs": [
        {
          "output_type": "stream",
          "name": "stderr",
          "text": [
            "<ipython-input-22-7474f6ebaf20>:1: UserWarning: \n",
            "\n",
            "`distplot` is a deprecated function and will be removed in seaborn v0.14.0.\n",
            "\n",
            "Please adapt your code to use either `displot` (a figure-level function with\n",
            "similar flexibility) or `histplot` (an axes-level function for histograms).\n",
            "\n",
            "For a guide to updating your code to use the new functions, please see\n",
            "https://gist.github.com/mwaskom/de44147ed2974457ad6372750bbe5751\n",
            "\n",
            "  sns.distplot(highest_cities_accident)\n"
          ]
        },
        {
          "output_type": "execute_result",
          "data": {
            "text/plain": [
              "<Axes: xlabel='count', ylabel='Density'>"
            ]
          },
          "metadata": {},
          "execution_count": 22
        },
        {
          "output_type": "display_data",
          "data": {
            "text/plain": [
              "<Figure size 640x480 with 1 Axes>"
            ],
            "image/png": "[encoded data removed]"
          },
          "metadata": {}
        }
      ]
    },
    {
      "cell_type": "code",
      "source": [
        "len(highest_cities_accident) / len(cities)"
      ],
      "metadata": {
        "colab": {
          "base_uri": "https://localhost:8080/"
        },
        "id": "R9hBZCQd7GLM",
        "outputId": "d757157d-2e7d-4282-d550-e2f1d2c4346b"
      },
      "execution_count": 23,
      "outputs": [
        {
          "output_type": "execute_result",
          "data": {
            "text/plain": [
              "0.008695652173913044"
            ]
          },
          "metadata": {},
          "execution_count": 23
        }
      ]
    },
    {
      "cell_type": "code",
      "source": [
        "lowest_cities_accident= cities_by_accident[cities_by_accident <1000]\n",
        "len(lowest_cities_accident)"
      ],
      "metadata": {
        "colab": {
          "base_uri": "https://localhost:8080/"
        },
        "id": "9MNOmm457GNR",
        "outputId": "6b4356c6-6388-4a59-8d7c-f7fbd399f82d"
      },
      "execution_count": 24,
      "outputs": [
        {
          "output_type": "execute_result",
          "data": {
            "text/plain": [
              "455"
            ]
          },
          "metadata": {},
          "execution_count": 24
        }
      ]
    },
    {
      "cell_type": "code",
      "source": [
        "sns.distplot(lowest_cities_accident)"
      ],
      "metadata": {
        "colab": {
          "base_uri": "https://localhost:8080/",
          "height": 653
        },
        "id": "t5xHyjhB7GPH",
        "outputId": "4239d589-9fc8-4d5b-bcc5-f31cb3bcede5"
      },
      "execution_count": 25,
      "outputs": [
        {
          "output_type": "stream",
          "name": "stderr",
          "text": [
            "<ipython-input-25-9e4e16d19c73>:1: UserWarning: \n",
            "\n",
            "`distplot` is a deprecated function and will be removed in seaborn v0.14.0.\n",
            "\n",
            "Please adapt your code to use either `displot` (a figure-level function with\n",
            "similar flexibility) or `histplot` (an axes-level function for histograms).\n",
            "\n",
            "For a guide to updating your code to use the new functions, please see\n",
            "https://gist.github.com/mwaskom/de44147ed2974457ad6372750bbe5751\n",
            "\n",
            "  sns.distplot(lowest_cities_accident)\n"
          ]
        },
        {
          "output_type": "execute_result",
          "data": {
            "text/plain": [
              "<Axes: xlabel='count', ylabel='Density'>"
            ]
          },
          "metadata": {},
          "execution_count": 25
        },
        {
          "output_type": "display_data",
          "data": {
            "text/plain": [
              "<Figure size 640x480 with 1 Axes>"
            ],
            "image/png": "[encoded data removed]"
          },
          "metadata": {}
        }
      ]
    },
    {
      "cell_type": "code",
      "source": [
        "len(lowest_cities_accident) / len(cities)"
      ],
      "metadata": {
        "colab": {
          "base_uri": "https://localhost:8080/"
        },
        "id": "a00dbJPH6MAN",
        "outputId": "e2bc101a-9516-41f3-ceda-f9e5e8e413e3"
      },
      "execution_count": 26,
      "outputs": [
        {
          "output_type": "execute_result",
          "data": {
            "text/plain": [
              "0.9891304347826086"
            ]
          },
          "metadata": {},
          "execution_count": 26
        }
      ]
    },
    {
      "cell_type": "code",
      "source": [
        "sns.histplot(cities_by_accident , log_scale=True)"
      ],
      "metadata": {
        "colab": {
          "base_uri": "https://localhost:8080/",
          "height": 471
        },
        "id": "L-aypG0r7hni",
        "outputId": "7d9b360d-267c-46c7-bd3c-8864dc16e8ac"
      },
      "execution_count": 27,
      "outputs": [
        {
          "output_type": "execute_result",
          "data": {
            "text/plain": [
              "<Axes: xlabel='count', ylabel='Count'>"
            ]
          },
          "metadata": {},
          "execution_count": 27
        },
        {
          "output_type": "display_data",
          "data": {
            "text/plain": [
              "<Figure size 640x480 with 1 Axes>"
            ],
            "image/png": "[encoded data removed]"
          },
          "metadata": {}
        }
      ]
    },
    {
      "cell_type": "code",
      "source": [
        "cities_by_accident[cities_by_accident ==1]"
      ],
      "metadata": {
        "colab": {
          "base_uri": "https://localhost:8080/",
          "height": 484
        },
        "id": "Z4FKvrsM7hpY",
        "outputId": "ea7f63de-d717-4c48-970c-d16856b8fc66"
      },
      "execution_count": 28,
      "outputs": [
        {
          "output_type": "execute_result",
          "data": {
            "text/plain": [
              "City\n",
              "Stonyford        1\n",
              "Cobb             1\n",
              "Grizzly Flats    1\n",
              "El Macero        1\n",
              "Guinda           1\n",
              "                ..\n",
              "Tiro             1\n",
              "Strongsville     1\n",
              "Circleville      1\n",
              "Peebles          1\n",
              "Berry Creek      1\n",
              "Name: count, Length: 77, dtype: int64"
            ],
            "text/html": [
              "<div>\n",
              "<style scoped>\n",
              "    .dataframe tbody tr th:only-of-type {\n",
              "        vertical-align: middle;\n",
              "    }\n",
              "\n",
              "    .dataframe tbody tr th {\n",
              "        vertical-align: top;\n",
              "    }\n",
              "\n",
              "    .dataframe thead th {\n",
              "        text-align: right;\n",
              "    }\n",
              "</style>\n",
              "<table border=\"1\" class=\"dataframe\">\n",
              "  <thead>\n",
              "    <tr style=\"text-align: right;\">\n",
              "      <th></th>\n",
              "      <th>count</th>\n",
              "    </tr>\n",
              "    <tr>\n",
              "      <th>City</th>\n",
              "      <th></th>\n",
              "    </tr>\n",
              "  </thead>\n",
              "  <tbody>\n",
              "    <tr>\n",
              "      <th>Stonyford</th>\n",
              "      <td>1</td>\n",
              "    </tr>\n",
              "    <tr>\n",
              "      <th>Cobb</th>\n",
              "      <td>1</td>\n",
              "    </tr>\n",
              "    <tr>\n",
              "      <th>Grizzly Flats</th>\n",
              "      <td>1</td>\n",
              "    </tr>\n",
              "    <tr>\n",
              "      <th>El Macero</th>\n",
              "      <td>1</td>\n",
              "    </tr>\n",
              "    <tr>\n",
              "      <th>Guinda</th>\n",
              "      <td>1</td>\n",
              "    </tr>\n",
              "    <tr>\n",
              "      <th>...</th>\n",
              "      <td>...</td>\n",
              "    </tr>\n",
              "    <tr>\n",
              "      <th>Tiro</th>\n",
              "      <td>1</td>\n",
              "    </tr>\n",
              "    <tr>\n",
              "      <th>Strongsville</th>\n",
              "      <td>1</td>\n",
              "    </tr>\n",
              "    <tr>\n",
              "      <th>Circleville</th>\n",
              "      <td>1</td>\n",
              "    </tr>\n",
              "    <tr>\n",
              "      <th>Peebles</th>\n",
              "      <td>1</td>\n",
              "    </tr>\n",
              "    <tr>\n",
              "      <th>Berry Creek</th>\n",
              "      <td>1</td>\n",
              "    </tr>\n",
              "  </tbody>\n",
              "</table>\n",
              "<p>77 rows × 1 columns</p>\n",
              "</div><br><label><b>dtype:</b> int64</label>"
            ]
          },
          "metadata": {},
          "execution_count": 28
        }
      ]
    },
    {
      "cell_type": "code",
      "source": [
        "df.Start_Time\n"
      ],
      "metadata": {
        "colab": {
          "base_uri": "https://localhost:8080/",
          "height": 453
        },
        "id": "FS3f8nup7hrc",
        "outputId": "720416e6-e536-416e-a3d6-001befb032f0"
      },
      "execution_count": 29,
      "outputs": [
        {
          "output_type": "execute_result",
          "data": {
            "text/plain": [
              "0        2016-02-08 05:46:00\n",
              "1        2016-02-08 06:07:59\n",
              "2        2016-02-08 06:49:27\n",
              "3        2016-02-08 07:23:34\n",
              "4        2016-02-08 07:39:07\n",
              "                ...         \n",
              "42051    2016-06-12 11:11:01\n",
              "42052    2016-06-12 11:12:08\n",
              "42053    2016-06-12 10:07:37\n",
              "42054    2016-06-12 10:07:37\n",
              "42055    2016-06-12 10:07:37\n",
              "Name: Start_Time, Length: 42056, dtype: object"
            ],
            "text/html": [
              "<div>\n",
              "<style scoped>\n",
              "    .dataframe tbody tr th:only-of-type {\n",
              "        vertical-align: middle;\n",
              "    }\n",
              "\n",
              "    .dataframe tbody tr th {\n",
              "        vertical-align: top;\n",
              "    }\n",
              "\n",
              "    .dataframe thead th {\n",
              "        text-align: right;\n",
              "    }\n",
              "</style>\n",
              "<table border=\"1\" class=\"dataframe\">\n",
              "  <thead>\n",
              "    <tr style=\"text-align: right;\">\n",
              "      <th></th>\n",
              "      <th>Start_Time</th>\n",
              "    </tr>\n",
              "  </thead>\n",
              "  <tbody>\n",
              "    <tr>\n",
              "      <th>0</th>\n",
              "      <td>2016-02-08 05:46:00</td>\n",
              "    </tr>\n",
              "    <tr>\n",
              "      <th>1</th>\n",
              "      <td>2016-02-08 06:07:59</td>\n",
              "    </tr>\n",
              "    <tr>\n",
              "      <th>2</th>\n",
              "      <td>2016-02-08 06:49:27</td>\n",
              "    </tr>\n",
              "    <tr>\n",
              "      <th>3</th>\n",
              "      <td>2016-02-08 07:23:34</td>\n",
              "    </tr>\n",
              "    <tr>\n",
              "      <th>4</th>\n",
              "      <td>2016-02-08 07:39:07</td>\n",
              "    </tr>\n",
              "    <tr>\n",
              "      <th>...</th>\n",
              "      <td>...</td>\n",
              "    </tr>\n",
              "    <tr>\n",
              "      <th>42051</th>\n",
              "      <td>2016-06-12 11:11:01</td>\n",
              "    </tr>\n",
              "    <tr>\n",
              "      <th>42052</th>\n",
              "      <td>2016-06-12 11:12:08</td>\n",
              "    </tr>\n",
              "    <tr>\n",
              "      <th>42053</th>\n",
              "      <td>2016-06-12 10:07:37</td>\n",
              "    </tr>\n",
              "    <tr>\n",
              "      <th>42054</th>\n",
              "      <td>2016-06-12 10:07:37</td>\n",
              "    </tr>\n",
              "    <tr>\n",
              "      <th>42055</th>\n",
              "      <td>2016-06-12 10:07:37</td>\n",
              "    </tr>\n",
              "  </tbody>\n",
              "</table>\n",
              "<p>42056 rows × 1 columns</p>\n",
              "</div><br><label><b>dtype:</b> object</label>"
            ]
          },
          "metadata": {},
          "execution_count": 29
        }
      ]
    },
    {
      "cell_type": "code",
      "source": [
        "df['Start_Time'] = pd.to_datetime(df['Start_Time'], errors='coerce')"
      ],
      "metadata": {
        "id": "9weD25zx7hs0"
      },
      "execution_count": 30,
      "outputs": []
    },
    {
      "cell_type": "code",
      "source": [
        "df.Start_Time[0]"
      ],
      "metadata": {
        "colab": {
          "base_uri": "https://localhost:8080/"
        },
        "id": "lZaQ0eeU7hul",
        "outputId": "83f40b18-f37e-4504-f95f-88ab10a60efb"
      },
      "execution_count": 31,
      "outputs": [
        {
          "output_type": "execute_result",
          "data": {
            "text/plain": [
              "Timestamp('2016-02-08 05:46:00')"
            ]
          },
          "metadata": {},
          "execution_count": 31
        }
      ]
    },
    {
      "cell_type": "code",
      "source": [
        "sns.distplot(df.Start_Time.dt.hour , bins =24 , norm_hist=True ,kde= False)"
      ],
      "metadata": {
        "colab": {
          "base_uri": "https://localhost:8080/",
          "height": 654
        },
        "id": "t31auNWN7uOl",
        "outputId": "c769bbd3-2f64-4ba0-c44d-09555e7e3cf3"
      },
      "execution_count": 32,
      "outputs": [
        {
          "output_type": "stream",
          "name": "stderr",
          "text": [
            "<ipython-input-32-daada4f5927c>:1: UserWarning: \n",
            "\n",
            "`distplot` is a deprecated function and will be removed in seaborn v0.14.0.\n",
            "\n",
            "Please adapt your code to use either `displot` (a figure-level function with\n",
            "similar flexibility) or `histplot` (an axes-level function for histograms).\n",
            "\n",
            "For a guide to updating your code to use the new functions, please see\n",
            "https://gist.github.com/mwaskom/de44147ed2974457ad6372750bbe5751\n",
            "\n",
            "  sns.distplot(df.Start_Time.dt.hour , bins =24 , norm_hist=True ,kde= False)\n"
          ]
        },
        {
          "output_type": "execute_result",
          "data": {
            "text/plain": [
              "<Axes: xlabel='Start_Time'>"
            ]
          },
          "metadata": {},
          "execution_count": 32
        },
        {
          "output_type": "display_data",
          "data": {
            "text/plain": [
              "<Figure size 640x480 with 1 Axes>"
            ],
            "image/png": "[encoded data removed]"
          },
          "metadata": {}
        }
      ]
    },
    {
      "cell_type": "code",
      "source": [
        "sns.distplot(df.Start_Time.dt.dayofweek, bins=7, kde=False, norm_hist=True)"
      ],
      "metadata": {
        "colab": {
          "base_uri": "https://localhost:8080/",
          "height": 654
        },
        "id": "Nl1Rh3_97uRY",
        "outputId": "50c0c0c5-527b-453f-b92e-a2d5952045b1"
      },
      "execution_count": 33,
      "outputs": [
        {
          "output_type": "stream",
          "name": "stderr",
          "text": [
            "<ipython-input-33-019c7ea578c3>:1: UserWarning: \n",
            "\n",
            "`distplot` is a deprecated function and will be removed in seaborn v0.14.0.\n",
            "\n",
            "Please adapt your code to use either `displot` (a figure-level function with\n",
            "similar flexibility) or `histplot` (an axes-level function for histograms).\n",
            "\n",
            "For a guide to updating your code to use the new functions, please see\n",
            "https://gist.github.com/mwaskom/de44147ed2974457ad6372750bbe5751\n",
            "\n",
            "  sns.distplot(df.Start_Time.dt.dayofweek, bins=7, kde=False, norm_hist=True)\n"
          ]
        },
        {
          "output_type": "execute_result",
          "data": {
            "text/plain": [
              "<Axes: xlabel='Start_Time'>"
            ]
          },
          "metadata": {},
          "execution_count": 33
        },
        {
          "output_type": "display_data",
          "data": {
            "text/plain": [
              "<Figure size 640x480 with 1 Axes>"
            ],
            "image/png": "[encoded data removed]"
          },
          "metadata": {}
        }
      ]
    },
    {
      "cell_type": "code",
      "source": [
        "sundays_start_time = df.Start_Time[df.Start_Time.dt.dayofweek == 6]\n",
        "sns.distplot(sundays_start_time.dt.hour, bins=24, kde=False, norm_hist=True)"
      ],
      "metadata": {
        "colab": {
          "base_uri": "https://localhost:8080/",
          "height": 654
        },
        "id": "FXH8bJLI7uTP",
        "outputId": "c4a2f753-0089-4362-c8b1-abcb406b481d"
      },
      "execution_count": 34,
      "outputs": [
        {
          "output_type": "stream",
          "name": "stderr",
          "text": [
            "<ipython-input-34-6d10f1b09e8f>:2: UserWarning: \n",
            "\n",
            "`distplot` is a deprecated function and will be removed in seaborn v0.14.0.\n",
            "\n",
            "Please adapt your code to use either `displot` (a figure-level function with\n",
            "similar flexibility) or `histplot` (an axes-level function for histograms).\n",
            "\n",
            "For a guide to updating your code to use the new functions, please see\n",
            "https://gist.github.com/mwaskom/de44147ed2974457ad6372750bbe5751\n",
            "\n",
            "  sns.distplot(sundays_start_time.dt.hour, bins=24, kde=False, norm_hist=True)\n"
          ]
        },
        {
          "output_type": "execute_result",
          "data": {
            "text/plain": [
              "<Axes: xlabel='Start_Time'>"
            ]
          },
          "metadata": {},
          "execution_count": 34
        },
        {
          "output_type": "display_data",
          "data": {
            "text/plain": [
              "<Figure size 640x480 with 1 Axes>"
            ],
            "image/png": "[encoded data removed]"
          },
          "metadata": {}
        }
      ]
    },
    {
      "cell_type": "code",
      "source": [
        "monday_start_time = df.Start_Time[df.Start_Time.dt.dayofweek == 0]\n",
        "sns.distplot(monday_start_time.dt.hour, bins=24, kde=False, norm_hist=True)"
      ],
      "metadata": {
        "colab": {
          "base_uri": "https://localhost:8080/",
          "height": 654
        },
        "id": "2kK6wpOC7uVG",
        "outputId": "d48f7e5f-56f7-49e5-d249-6ca885f203dd"
      },
      "execution_count": 35,
      "outputs": [
        {
          "output_type": "stream",
          "name": "stderr",
          "text": [
            "<ipython-input-35-a0c386feb2b8>:2: UserWarning: \n",
            "\n",
            "`distplot` is a deprecated function and will be removed in seaborn v0.14.0.\n",
            "\n",
            "Please adapt your code to use either `displot` (a figure-level function with\n",
            "similar flexibility) or `histplot` (an axes-level function for histograms).\n",
            "\n",
            "For a guide to updating your code to use the new functions, please see\n",
            "https://gist.github.com/mwaskom/de44147ed2974457ad6372750bbe5751\n",
            "\n",
            "  sns.distplot(monday_start_time.dt.hour, bins=24, kde=False, norm_hist=True)\n"
          ]
        },
        {
          "output_type": "execute_result",
          "data": {
            "text/plain": [
              "<Axes: xlabel='Start_Time'>"
            ]
          },
          "metadata": {},
          "execution_count": 35
        },
        {
          "output_type": "display_data",
          "data": {
            "text/plain": [
              "<Figure size 640x480 with 1 Axes>"
            ],
            "image/png": "[encoded data removed]"
          },
          "metadata": {}
        }
      ]
    },
    {
      "cell_type": "code",
      "source": [
        "df.Source.value_counts().plot(kind='pie')"
      ],
      "metadata": {
        "colab": {
          "base_uri": "https://localhost:8080/",
          "height": 423
        },
        "id": "hXAQhMZs7uWl",
        "outputId": "f80ce914-37ce-4c21-ffd8-846b67778b3f"
      },
      "execution_count": 36,
      "outputs": [
        {
          "output_type": "execute_result",
          "data": {
            "text/plain": [
              "<Axes: ylabel='count'>"
            ]
          },
          "metadata": {},
          "execution_count": 36
        },
        {
          "output_type": "display_data",
          "data": {
            "text/plain": [
              "<Figure size 640x480 with 1 Axes>"
            ],
            "image/png": "[encoded data removed]"
          },
          "metadata": {}
        }
      ]
    },
    {
      "cell_type": "code",
      "source": [
        "df.Start_Lat"
      ],
      "metadata": {
        "colab": {
          "base_uri": "https://localhost:8080/",
          "height": 453
        },
        "id": "kv_gBMQ877G_",
        "outputId": "8b5e0935-1ab7-4e21-a293-d5aeb64ce044"
      },
      "execution_count": 37,
      "outputs": [
        {
          "output_type": "execute_result",
          "data": {
            "text/plain": [
              "0        39.865147\n",
              "1        39.928059\n",
              "2        39.063148\n",
              "3        39.747753\n",
              "4        39.627781\n",
              "           ...    \n",
              "42051    38.226337\n",
              "42052    37.970158\n",
              "42053    38.064247\n",
              "42054    37.704838\n",
              "42055    37.617496\n",
              "Name: Start_Lat, Length: 42056, dtype: float64"
            ],
            "text/html": [
              "<div>\n",
              "<style scoped>\n",
              "    .dataframe tbody tr th:only-of-type {\n",
              "        vertical-align: middle;\n",
              "    }\n",
              "\n",
              "    .dataframe tbody tr th {\n",
              "        vertical-align: top;\n",
              "    }\n",
              "\n",
              "    .dataframe thead th {\n",
              "        text-align: right;\n",
              "    }\n",
              "</style>\n",
              "<table border=\"1\" class=\"dataframe\">\n",
              "  <thead>\n",
              "    <tr style=\"text-align: right;\">\n",
              "      <th></th>\n",
              "      <th>Start_Lat</th>\n",
              "    </tr>\n",
              "  </thead>\n",
              "  <tbody>\n",
              "    <tr>\n",
              "      <th>0</th>\n",
              "      <td>39.865147</td>\n",
              "    </tr>\n",
              "    <tr>\n",
              "      <th>1</th>\n",
              "      <td>39.928059</td>\n",
              "    </tr>\n",
              "    <tr>\n",
              "      <th>2</th>\n",
              "      <td>39.063148</td>\n",
              "    </tr>\n",
              "    <tr>\n",
              "      <th>3</th>\n",
              "      <td>39.747753</td>\n",
              "    </tr>\n",
              "    <tr>\n",
              "      <th>4</th>\n",
              "      <td>39.627781</td>\n",
              "    </tr>\n",
              "    <tr>\n",
              "      <th>...</th>\n",
              "      <td>...</td>\n",
              "    </tr>\n",
              "    <tr>\n",
              "      <th>42051</th>\n",
              "      <td>38.226337</td>\n",
              "    </tr>\n",
              "    <tr>\n",
              "      <th>42052</th>\n",
              "      <td>37.970158</td>\n",
              "    </tr>\n",
              "    <tr>\n",
              "      <th>42053</th>\n",
              "      <td>38.064247</td>\n",
              "    </tr>\n",
              "    <tr>\n",
              "      <th>42054</th>\n",
              "      <td>37.704838</td>\n",
              "    </tr>\n",
              "    <tr>\n",
              "      <th>42055</th>\n",
              "      <td>37.617496</td>\n",
              "    </tr>\n",
              "  </tbody>\n",
              "</table>\n",
              "<p>42056 rows × 1 columns</p>\n",
              "</div><br><label><b>dtype:</b> float64</label>"
            ]
          },
          "metadata": {},
          "execution_count": 37
        }
      ]
    },
    {
      "cell_type": "code",
      "source": [
        "df.Start_Lng"
      ],
      "metadata": {
        "colab": {
          "base_uri": "https://localhost:8080/",
          "height": 453
        },
        "id": "vEnJCaD_77Jk",
        "outputId": "85abfa0c-f454-4dfd-f641-063af8189216"
      },
      "execution_count": 38,
      "outputs": [
        {
          "output_type": "execute_result",
          "data": {
            "text/plain": [
              "0        -84.058723\n",
              "1        -82.831184\n",
              "2        -84.032608\n",
              "3        -84.205582\n",
              "4        -84.188354\n",
              "            ...    \n",
              "42051   -121.423782\n",
              "42052   -121.403168\n",
              "42053   -122.805115\n",
              "42054   -122.116905\n",
              "42055   -122.074219\n",
              "Name: Start_Lng, Length: 42056, dtype: float64"
            ],
            "text/html": [
              "<div>\n",
              "<style scoped>\n",
              "    .dataframe tbody tr th:only-of-type {\n",
              "        vertical-align: middle;\n",
              "    }\n",
              "\n",
              "    .dataframe tbody tr th {\n",
              "        vertical-align: top;\n",
              "    }\n",
              "\n",
              "    .dataframe thead th {\n",
              "        text-align: right;\n",
              "    }\n",
              "</style>\n",
              "<table border=\"1\" class=\"dataframe\">\n",
              "  <thead>\n",
              "    <tr style=\"text-align: right;\">\n",
              "      <th></th>\n",
              "      <th>Start_Lng</th>\n",
              "    </tr>\n",
              "  </thead>\n",
              "  <tbody>\n",
              "    <tr>\n",
              "      <th>0</th>\n",
              "      <td>-84.058723</td>\n",
              "    </tr>\n",
              "    <tr>\n",
              "      <th>1</th>\n",
              "      <td>-82.831184</td>\n",
              "    </tr>\n",
              "    <tr>\n",
              "      <th>2</th>\n",
              "      <td>-84.032608</td>\n",
              "    </tr>\n",
              "    <tr>\n",
              "      <th>3</th>\n",
              "      <td>-84.205582</td>\n",
              "    </tr>\n",
              "    <tr>\n",
              "      <th>4</th>\n",
              "      <td>-84.188354</td>\n",
              "    </tr>\n",
              "    <tr>\n",
              "      <th>...</th>\n",
              "      <td>...</td>\n",
              "    </tr>\n",
              "    <tr>\n",
              "      <th>42051</th>\n",
              "      <td>-121.423782</td>\n",
              "    </tr>\n",
              "    <tr>\n",
              "      <th>42052</th>\n",
              "      <td>-121.403168</td>\n",
              "    </tr>\n",
              "    <tr>\n",
              "      <th>42053</th>\n",
              "      <td>-122.805115</td>\n",
              "    </tr>\n",
              "    <tr>\n",
              "      <th>42054</th>\n",
              "      <td>-122.116905</td>\n",
              "    </tr>\n",
              "    <tr>\n",
              "      <th>42055</th>\n",
              "      <td>-122.074219</td>\n",
              "    </tr>\n",
              "  </tbody>\n",
              "</table>\n",
              "<p>42056 rows × 1 columns</p>\n",
              "</div><br><label><b>dtype:</b> float64</label>"
            ]
          },
          "metadata": {},
          "execution_count": 38
        }
      ]
    },
    {
      "cell_type": "code",
      "source": [
        "sample_df = df.sample(int(0.1 *len(df)))"
      ],
      "metadata": {
        "id": "aK7-KTWV77Ln"
      },
      "execution_count": 39,
      "outputs": []
    },
    {
      "cell_type": "code",
      "source": [
        "sns.scatterplot(x=sample_df.Start_Lng,y= sample_df.Start_Lat)"
      ],
      "metadata": {
        "colab": {
          "base_uri": "https://localhost:8080/",
          "height": 466
        },
        "id": "edFeceup77M3",
        "outputId": "00e6cb71-f6ac-4396-8a3a-c62c389f7b88"
      },
      "execution_count": 40,
      "outputs": [
        {
          "output_type": "execute_result",
          "data": {
            "text/plain": [
              "<Axes: xlabel='Start_Lng', ylabel='Start_Lat'>"
            ]
          },
          "metadata": {},
          "execution_count": 40
        },
        {
          "output_type": "display_data",
          "data": {
            "text/plain": [
              "<Figure size 640x480 with 1 Axes>"
            ],
            "image/png": "[encoded data removed]"
          },
          "metadata": {}
        }
      ]
    },
    {
      "cell_type": "code",
      "source": [
        "!pip install folium\n",
        "import folium"
      ],
      "metadata": {
        "colab": {
          "base_uri": "https://localhost:8080/"
        },
        "id": "8qNDKj3M8EZu",
        "outputId": "0c2360eb-9d44-4664-cec4-07bf0e65c13a"
      },
      "execution_count": 41,
      "outputs": [
        {
          "output_type": "stream",
          "name": "stdout",
          "text": [
            "Requirement already satisfied: folium in /usr/local/lib/python3.10/dist-packages (0.17.0)\n",
            "Requirement already satisfied: branca>=0.6.0 in /usr/local/lib/python3.10/dist-packages (from folium) (0.7.2)\n",
            "Requirement already satisfied: jinja2>=2.9 in /usr/local/lib/python3.10/dist-packages (from folium) (3.1.4)\n",
            "Requirement already satisfied: numpy in /usr/local/lib/python3.10/dist-packages (from folium) (1.26.4)\n",
            "Requirement already satisfied: requests in /usr/local/lib/python3.10/dist-packages (from folium) (2.32.3)\n",
            "Requirement already satisfied: xyzservices in /usr/local/lib/python3.10/dist-packages (from folium) (2024.6.0)\n",
            "Requirement already satisfied: MarkupSafe>=2.0 in /usr/local/lib/python3.10/dist-packages (from jinja2>=2.9->folium) (2.1.5)\n",
            "Requirement already satisfied: charset-normalizer<4,>=2 in /usr/local/lib/python3.10/dist-packages (from requests->folium) (3.3.2)\n",
            "Requirement already satisfied: idna<4,>=2.5 in /usr/local/lib/python3.10/dist-packages (from requests->folium) (3.7)\n",
            "Requirement already satisfied: urllib3<3,>=1.21.1 in /usr/local/lib/python3.10/dist-packages (from requests->folium) (2.0.7)\n",
            "Requirement already satisfied: certifi>=2017.4.17 in /usr/local/lib/python3.10/dist-packages (from requests->folium) (2024.7.4)\n"
          ]
        }
      ]
    },
    {
      "cell_type": "code",
      "source": [
        "lat, lon = df.Start_Lat[0], df.Start_Lng[0]\n",
        "lat, lon"
      ],
      "metadata": {
        "colab": {
          "base_uri": "https://localhost:8080/"
        },
        "id": "GINDePEh8Ebj",
        "outputId": "8b43e66e-33c4-441b-d55a-1675c036ed91"
      },
      "execution_count": 42,
      "outputs": [
        {
          "output_type": "execute_result",
          "data": {
            "text/plain": [
              "(39.865147, -84.058723)"
            ]
          },
          "metadata": {},
          "execution_count": 42
        }
      ]
    },
    {
      "cell_type": "code",
      "source": [
        "for x in df[['Start_Lat', 'Start_Lng']].sample(100).items():\n",
        "    print(x[1])"
      ],
      "metadata": {
        "colab": {
          "base_uri": "https://localhost:8080/"
        },
        "id": "TMOBn7am8EdT",
        "outputId": "530f7b2a-5515-4dce-bd10-f6478330a713"
      },
      "execution_count": 43,
      "outputs": [
        {
          "output_type": "stream",
          "name": "stdout",
          "text": [
            "942      37.779552\n",
            "8250     37.324497\n",
            "18339    37.623623\n",
            "28036    38.203979\n",
            "3050     37.565029\n",
            "           ...    \n",
            "8938     38.498535\n",
            "16663    37.900940\n",
            "8848     38.604973\n",
            "9009     37.164703\n",
            "4052     38.283947\n",
            "Name: Start_Lat, Length: 100, dtype: float64\n",
            "942     -121.314514\n",
            "8250    -121.889534\n",
            "18339   -122.427803\n",
            "28036   -122.155060\n",
            "3050    -121.901848\n",
            "            ...    \n",
            "8938    -120.693977\n",
            "16663   -122.310699\n",
            "8848    -121.401489\n",
            "9009    -121.704407\n",
            "4052    -122.450592\n",
            "Name: Start_Lng, Length: 100, dtype: float64\n"
          ]
        }
      ]
    },
    {
      "cell_type": "code",
      "source": [
        "zip(list(df.Start_Lat), list(df.Start_Lng))"
      ],
      "metadata": {
        "colab": {
          "base_uri": "https://localhost:8080/"
        },
        "id": "_4mEVQb68EfI",
        "outputId": "f0130703-142f-4a94-9ada-3170349e9e8f"
      },
      "execution_count": 44,
      "outputs": [
        {
          "output_type": "execute_result",
          "data": {
            "text/plain": [
              "<zip at 0x7d833780fec0>"
            ]
          },
          "metadata": {},
          "execution_count": 44
        }
      ]
    },
    {
      "cell_type": "code",
      "source": [
        "from folium.plugins import HeatMap"
      ],
      "metadata": {
        "id": "A9IsZJq88EhR"
      },
      "execution_count": 45,
      "outputs": []
    },
    {
      "cell_type": "code",
      "source": [
        "sample_df = df.sample(int(0.001 * len(df)))\n",
        "lat_lon_pairs = list(zip(list(sample_df.Start_Lat), list(sample_df.Start_Lng)))"
      ],
      "metadata": {
        "id": "phINvyzq8EjN"
      },
      "execution_count": 46,
      "outputs": []
    },
    {
      "cell_type": "code",
      "source": [
        "map = folium.Map()\n",
        "HeatMap(lat_lon_pairs).add_to(map)\n",
        "map"
      ],
      "metadata": {
        "colab": {
          "base_uri": "https://localhost:8080/",
          "height": 644
        },
        "id": "7FGVhEzD8Ekx",
        "outputId": "f3ccefc6-6b00-4adf-8171-b272b15e0946"
      },
      "execution_count": 47,
      "outputs": [
        {
          "output_type": "execute_result",
          "data": {
            "text/plain": [
              "<folium.folium.Map at 0x7d8336e643a0>"
            ],
            "text/html": [
              "<div style=\"width:100%;\"><div style=\"position:relative;width:100%;height:0;padding-bottom:60%;\"><span style=\"color:#565656\">Make this Notebook Trusted to load map: File -> Trust Notebook</span><iframe srcdoc=\"&lt;!DOCTYPE html&gt;\n",
              "&lt;html&gt;\n",
              "&lt;head&gt;\n",
              "    \n",
              "    &lt;meta http-equiv=&quot;content-type&quot; content=&quot;text/html; charset=UTF-8&quot; /&gt;\n",
              "    \n",
              "        &lt;script&gt;\n",
              "            L_NO_TOUCH = false;\n",
              "            L_DISABLE_3D = false;\n",
              "        &lt;/script&gt;\n",
              "    \n",
              "    &lt;style&gt;html, body {width: 100%;height: 100%;margin: 0;padding: 0;}&lt;/style&gt;\n",
              "    &lt;style&gt;#map {position:absolute;top:0;bottom:0;right:0;left:0;}&lt;/style&gt;\n",
              "    &lt;script src=&quot;https://cdn.jsdelivr.net/npm/leaflet@1.9.3/dist/leaflet.js&quot;&gt;&lt;/script&gt;\n",
              "    &lt;script src=&quot;https://code.jquery.com/jquery-3.7.1.min.js&quot;&gt;&lt;/script&gt;\n",
              "    &lt;script src=&quot;https://cdn.jsdelivr.net/npm/bootstrap@5.2.2/dist/js/bootstrap.bundle.min.js&quot;&gt;&lt;/script&gt;\n",
              "    &lt;script src=&quot;https://cdnjs.cloudflare.com/ajax/libs/Leaflet.awesome-markers/2.0.2/leaflet.awesome-markers.js&quot;&gt;&lt;/script&gt;\n",
              "    &lt;link rel=&quot;stylesheet&quot; href=&quot;https://cdn.jsdelivr.net/npm/leaflet@1.9.3/dist/leaflet.css&quot;/&gt;\n",
              "    &lt;link rel=&quot;stylesheet&quot; href=&quot;https://cdn.jsdelivr.net/npm/bootstrap@5.2.2/dist/css/bootstrap.min.css&quot;/&gt;\n",
              "    &lt;link rel=&quot;stylesheet&quot; href=&quot;https://netdna.bootstrapcdn.com/bootstrap/3.0.0/css/bootstrap-glyphicons.css&quot;/&gt;\n",
              "    &lt;link rel=&quot;stylesheet&quot; href=&quot;https://cdn.jsdelivr.net/npm/@fortawesome/fontawesome-free@6.2.0/css/all.min.css&quot;/&gt;\n",
              "    &lt;link rel=&quot;stylesheet&quot; href=&quot;https://cdnjs.cloudflare.com/ajax/libs/Leaflet.awesome-markers/2.0.2/leaflet.awesome-markers.css&quot;/&gt;\n",
              "    &lt;link rel=&quot;stylesheet&quot; href=&quot;https://cdn.jsdelivr.net/gh/python-visualization/folium/folium/templates/leaflet.awesome.rotate.min.css&quot;/&gt;\n",
              "    \n",
              "            &lt;meta name=&quot;viewport&quot; content=&quot;width=device-width,\n",
              "                initial-scale=1.0, maximum-scale=1.0, user-scalable=no&quot; /&gt;\n",
              "            &lt;style&gt;\n",
              "                #map_04ef86482244d9bbd4648c6f365fd32a {\n",
              "                    position: relative;\n",
              "                    width: 100.0%;\n",
              "                    height: 100.0%;\n",
              "                    left: 0.0%;\n",
              "                    top: 0.0%;\n",
              "                }\n",
              "                .leaflet-container { font-size: 1rem; }\n",
              "            &lt;/style&gt;\n",
              "        \n",
              "    &lt;script src=&quot;https://cdn.jsdelivr.net/gh/python-visualization/folium@main/folium/templates/leaflet_heat.min.js&quot;&gt;&lt;/script&gt;\n",
              "&lt;/head&gt;\n",
              "&lt;body&gt;\n",
              "    \n",
              "    \n",
              "            &lt;div class=&quot;folium-map&quot; id=&quot;map_04ef86482244d9bbd4648c6f365fd32a&quot; &gt;&lt;/div&gt;\n",
              "        \n",
              "&lt;/body&gt;\n",
              "&lt;script&gt;\n",
              "    \n",
              "    \n",
              "            var map_04ef86482244d9bbd4648c6f365fd32a = L.map(\n",
              "                &quot;map_04ef86482244d9bbd4648c6f365fd32a&quot;,\n",
              "                {\n",
              "                    center: [0.0, 0.0],\n",
              "                    crs: L.CRS.EPSG3857,\n",
              "                    zoom: 1,\n",
              "                    zoomControl: true,\n",
              "                    preferCanvas: false,\n",
              "                }\n",
              "            );\n",
              "\n",
              "            \n",
              "\n",
              "        \n",
              "    \n",
              "            var tile_layer_a6ee9fa0823d6cb0f5be55592f4e6dc2 = L.tileLayer(\n",
              "                &quot;https://tile.openstreetmap.org/{z}/{x}/{y}.png&quot;,\n",
              "                {&quot;attribution&quot;: &quot;\\u0026copy; \\u003ca href=\\&quot;https://www.openstreetmap.org/copyright\\&quot;\\u003eOpenStreetMap\\u003c/a\\u003e contributors&quot;, &quot;detectRetina&quot;: false, &quot;maxNativeZoom&quot;: 19, &quot;maxZoom&quot;: 19, &quot;minZoom&quot;: 0, &quot;noWrap&quot;: false, &quot;opacity&quot;: 1, &quot;subdomains&quot;: &quot;abc&quot;, &quot;tms&quot;: false}\n",
              "            );\n",
              "        \n",
              "    \n",
              "            tile_layer_a6ee9fa0823d6cb0f5be55592f4e6dc2.addTo(map_04ef86482244d9bbd4648c6f365fd32a);\n",
              "        \n",
              "    \n",
              "            var heat_map_8e1f8b03d8f85f5f7b50ea3a1a0fd8c7 = L.heatLayer(\n",
              "                [[38.563389, -121.491623], [38.125385, -122.228943], [38.562237, -121.487328], [37.624619, -122.401329], [38.284286, -122.327354], [38.358131, -122.769623], [37.373352, -121.925728], [37.419003, -121.961128], [38.402515, -120.637611], [38.603329, -121.392242], [37.784218, -122.188446], [37.385403, -121.976135], [38.217556, -122.136856], [37.374222, -121.959564], [37.740032, -122.408096], [38.18811, -120.826477], [37.342869, -121.925583], [38.660477, -121.36087], [36.859879, -121.604027], [37.927048, -122.370415], [38.511036, -122.800316], [37.700802, -121.92276], [38.869884000000006, -121.13218700000002], [37.341419, -121.853584], [38.608799, -121.429543], [37.970802, -122.320351], [36.756168, -121.665146], [38.43195, -121.488762], [38.242306, -122.08654], [37.429478, -121.918472], [38.609974, -121.341393], [40.10564, -82.949692], [38.623131, -121.266632], [37.554943, -121.916428], [38.012596, -122.002274], [38.026146, -121.232292], [38.260651, -122.06063799999998], [37.44928, -122.123245], [37.764633, -122.405113], [39.230984, -121.04763], [38.692314, -120.71843], [37.696819, -122.071869]],\n",
              "                {&quot;blur&quot;: 15, &quot;maxZoom&quot;: 18, &quot;minOpacity&quot;: 0.5, &quot;radius&quot;: 25}\n",
              "            );\n",
              "        \n",
              "    \n",
              "            heat_map_8e1f8b03d8f85f5f7b50ea3a1a0fd8c7.addTo(map_04ef86482244d9bbd4648c6f365fd32a);\n",
              "        \n",
              "&lt;/script&gt;\n",
              "&lt;/html&gt;\" style=\"position:absolute;width:100%;height:100%;left:0;top:0;border:none !important;\" allowfullscreen webkitallowfullscreen mozallowfullscreen></iframe></div></div>"
            ]
          },
          "metadata": {},
          "execution_count": 47
        }
      ]
    },
    {
      "cell_type": "code",
      "source": [],
      "metadata": {
        "id": "Q38WzTUS8EnG"
      },
      "execution_count": 47,
      "outputs": []
    },
    {
      "cell_type": "code",
      "source": [],
      "metadata": {
        "id": "Ige0Hdtj8Eor"
      },
      "execution_count": null,
      "outputs": []
    }
  ]
}